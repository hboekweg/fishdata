{
 "cells": [
  {
   "cell_type": "code",
   "execution_count": 76,
   "metadata": {},
   "outputs": [],
   "source": [
    "import pandas as pd\n",
    "import matplotlib.pyplot as plt\n",
    "import Fish_data"
   ]
  },
  {
   "cell_type": "code",
   "execution_count": 77,
   "metadata": {},
   "outputs": [],
   "source": [
    "f = Fish_data.Fish()\n",
    "fish_data = f.get_fish_data()"
   ]
  },
  {
   "cell_type": "code",
   "execution_count": 32,
   "metadata": {},
   "outputs": [
    {
     "data": {
      "text/plain": [
       "101114"
      ]
     },
     "execution_count": 32,
     "metadata": {},
     "output_type": "execute_result"
    }
   ],
   "source": [
    "len(fish_data.index)"
   ]
  },
  {
   "cell_type": "code",
   "execution_count": 78,
   "metadata": {},
   "outputs": [],
   "source": [
    "weight = df[['Relative weight']]\n",
    "weight = weight.fillna(0)\n",
    "df['new_weight'] = weight\n"
   ]
  },
  {
   "cell_type": "markdown",
   "metadata": {},
   "source": [
    "# species without weights"
   ]
  },
  {
   "cell_type": "code",
   "execution_count": 71,
   "metadata": {},
   "outputs": [
    {
     "data": {
      "text/plain": [
       "array(['LMB', 'WAE', 'BLC', 'RBT', 'CRP', 'CCF', 'FMS', 'BGL', 'GSF',\n",
       "       'BNT', 'YBH', 'BTC', 'BBH', 'WHS', 'CPM', 'CTT', 'RZB', 'CCT',\n",
       "       'STB', 'BFL', 'RSH', 'blc', 'BM,', 'OTH', 'RLC', 'NPK', 'SMB',\n",
       "       'FLM', 'BRT', 'BCL', 'BTR', 'BG', 'SFH', 'KOK', 'TFS', 'RDS',\n",
       "       'ccf', 'BLG', 'lmb', 'CC', 'BC', 'YGH', 'WTC', 'WHC', 'GZD', 'WCP',\n",
       "       'stb', 'tfs', 'gsf', 'smb', 'bgl', 'rsh', '70', 'gzd', 'cct',\n",
       "       'tfs`', 'snb', 'blg', 'sj', 'sgf', 'gh', 'ybh', 'crp', 'wae', 'u',\n",
       "       'gssf', ' bgl', 'bcl', 'cat', 'dtb', 'awe', 'el', 'gdf', ' gsf',\n",
       "       'amb', 'gnf', 'bbh', 'wal', 'gsh', 'we', 'fms', 'rzb', 'was',\n",
       "       'wea', 'gbl', 'cpm', 'gaf', 'gaz', 'carp', 'GLB', 'GZDL', 'GAF',\n",
       "       'GSDF', 'SNB', 'CARP', 'GBL', 'GZC', 'HBC', 'RBS'], dtype=object)"
      ]
     },
     "execution_count": 71,
     "metadata": {},
     "output_type": "execute_result"
    }
   ],
   "source": [
    "#SPECIES WITHOUT weights\n",
    "specieswoweights = df.loc[df['new_weight']==0]\n",
    "specieswoweights['Species'].unique()"
   ]
  },
  {
   "cell_type": "code",
   "execution_count": 52,
   "metadata": {},
   "outputs": [
    {
     "data": {
      "text/plain": [
       "1166"
      ]
     },
     "execution_count": 52,
     "metadata": {},
     "output_type": "execute_result"
    }
   ],
   "source": [
    "STBspecieswo = specieswoweights.loc[specieswoweights['Species'] == \"STB\"]\n",
    "STBspecieswo['Species'].count()"
   ]
  },
  {
   "cell_type": "code",
   "execution_count": 53,
   "metadata": {},
   "outputs": [
    {
     "data": {
      "text/plain": [
       "7114"
      ]
     },
     "execution_count": 53,
     "metadata": {},
     "output_type": "execute_result"
    }
   ],
   "source": [
    "SMBspecieswo = specieswoweights.loc[specieswoweights['Species'] == \"SMB\"]\n",
    "SMBspecieswo['Species'].count()"
   ]
  },
  {
   "cell_type": "code",
   "execution_count": 54,
   "metadata": {},
   "outputs": [
    {
     "data": {
      "text/plain": [
       "732"
      ]
     },
     "execution_count": 54,
     "metadata": {},
     "output_type": "execute_result"
    }
   ],
   "source": [
    "stbspecieswo = specieswoweights.loc[specieswoweights['Species'] == \"stb\"]\n",
    "stbspecieswo['Species'].count()"
   ]
  },
  {
   "cell_type": "code",
   "execution_count": 55,
   "metadata": {},
   "outputs": [
    {
     "data": {
      "text/plain": [
       "1639"
      ]
     },
     "execution_count": 55,
     "metadata": {},
     "output_type": "execute_result"
    }
   ],
   "source": [
    "smbspecieswo = specieswoweights.loc[specieswoweights['Species'] == \"smb\"]\n",
    "smbspecieswo['Species'].count()"
   ]
  },
  {
   "cell_type": "code",
   "execution_count": 56,
   "metadata": {},
   "outputs": [
    {
     "data": {
      "text/plain": [
       "1098"
      ]
     },
     "execution_count": 56,
     "metadata": {},
     "output_type": "execute_result"
    }
   ],
   "source": [
    "lmbspecieswo = specieswoweights.loc[specieswoweights['Species'] == \"lmb\"]\n",
    "lmbspecieswo['Species'].count()"
   ]
  },
  {
   "cell_type": "code",
   "execution_count": 57,
   "metadata": {},
   "outputs": [
    {
     "data": {
      "text/plain": [
       "11749"
      ]
     },
     "execution_count": 57,
     "metadata": {},
     "output_type": "execute_result"
    }
   ],
   "source": [
    "#This is how many samples we could impute weight for\n",
    "1166+7114+732+1639+1098"
   ]
  },
  {
   "cell_type": "code",
   "execution_count": 59,
   "metadata": {},
   "outputs": [
    {
     "data": {
      "text/plain": [
       "70124"
      ]
     },
     "execution_count": 59,
     "metadata": {},
     "output_type": "execute_result"
    }
   ],
   "source": [
    "#This is how many samples we'll have left with no weights\n",
    "81873-11749"
   ]
  },
  {
   "cell_type": "markdown",
   "metadata": {},
   "source": [
    "# species with weights"
   ]
  },
  {
   "cell_type": "code",
   "execution_count": 80,
   "metadata": {},
   "outputs": [
    {
     "data": {
      "text/plain": [
       "array(['STB', 'SMB', 'stb', 'smb', 'lmb'], dtype=object)"
      ]
     },
     "execution_count": 80,
     "metadata": {},
     "output_type": "execute_result"
    }
   ],
   "source": [
    "#species with weights\n",
    "specieswithweights = df.loc[df['new_weight']!=0]\n",
    "specieswithweights['Species'].unique()"
   ]
  },
  {
   "cell_type": "code",
   "execution_count": null,
   "metadata": {},
   "outputs": [],
   "source": [
    "specieswithweights.head()"
   ]
  },
  {
   "cell_type": "code",
   "execution_count": 90,
   "metadata": {},
   "outputs": [
    {
     "data": {
      "text/plain": [
       "12384"
      ]
     },
     "execution_count": 90,
     "metadata": {},
     "output_type": "execute_result"
    }
   ],
   "source": [
    "#How many fish are in each species with weights?\n",
    "STBspecies = specieswithweights.loc[specieswithweights['Species'] == \"STB\"]\n",
    "STBspecies['Species'].count()"
   ]
  },
  {
   "cell_type": "code",
   "execution_count": 47,
   "metadata": {},
   "outputs": [
    {
     "data": {
      "text/plain": [
       "3109"
      ]
     },
     "execution_count": 47,
     "metadata": {},
     "output_type": "execute_result"
    }
   ],
   "source": [
    "SMBspecies = specieswithweights.loc[specieswithweights['Species'] == \"SMB\"]\n",
    "SMBspecies['Species'].count()"
   ]
  },
  {
   "cell_type": "code",
   "execution_count": 41,
   "metadata": {},
   "outputs": [
    {
     "data": {
      "text/plain": [
       "2172"
      ]
     },
     "execution_count": 41,
     "metadata": {},
     "output_type": "execute_result"
    }
   ],
   "source": [
    "stbspecies = specieswithweights.loc[specieswithweights['Species'] == \"stb\"]\n",
    "stbspecies['Species'].count()"
   ]
  },
  {
   "cell_type": "code",
   "execution_count": 42,
   "metadata": {},
   "outputs": [
    {
     "data": {
      "text/plain": [
       "1571"
      ]
     },
     "execution_count": 42,
     "metadata": {},
     "output_type": "execute_result"
    }
   ],
   "source": [
    "smbspecies = specieswithweights.loc[specieswithweights['Species'] == \"smb\"]\n",
    "smbspecies['Species'].count()"
   ]
  },
  {
   "cell_type": "code",
   "execution_count": 43,
   "metadata": {},
   "outputs": [
    {
     "data": {
      "text/plain": [
       "5"
      ]
     },
     "execution_count": 43,
     "metadata": {},
     "output_type": "execute_result"
    }
   ],
   "source": [
    "lmbspecies = specieswithweights.loc[specieswithweights['Species'] == \"lmb\"]\n",
    "lmbspecies['Species'].count()"
   ]
  },
  {
   "cell_type": "code",
   "execution_count": 48,
   "metadata": {},
   "outputs": [
    {
     "data": {
      "text/plain": [
       "19241"
      ]
     },
     "execution_count": 48,
     "metadata": {},
     "output_type": "execute_result"
    }
   ],
   "source": [
    "12384+2172+1571+5+3109"
   ]
  },
  {
   "cell_type": "markdown",
   "metadata": {},
   "source": [
    "# Lets look at the differnces in weight between the STB and the SMB"
   ]
  },
  {
   "cell_type": "code",
   "execution_count": 62,
   "metadata": {},
   "outputs": [
    {
     "data": {
      "image/png": "[encoded data removed]",
      "text/plain": [
       "<Figure size 432x288 with 1 Axes>"
      ]
     },
     "metadata": {
      "needs_background": "light"
     },
     "output_type": "display_data"
    }
   ],
   "source": [
    "get_time(STBspecies, '1980-01-01', '1990-01-01')"
   ]
  },
  {
   "cell_type": "code",
   "execution_count": 63,
   "metadata": {},
   "outputs": [
    {
     "data": {
      "image/png": "[encoded data removed]",
      "text/plain": [
       "<Figure size 432x288 with 1 Axes>"
      ]
     },
     "metadata": {
      "needs_background": "light"
     },
     "output_type": "display_data"
    }
   ],
   "source": [
    "get_time(SMBspecies, '1980-01-01', '1990-01-01')"
   ]
  },
  {
   "cell_type": "markdown",
   "metadata": {},
   "source": [
    "# We need to write a linear regression function."
   ]
  },
  {
   "cell_type": "code",
   "execution_count": null,
   "metadata": {},
   "outputs": [],
   "source": [
    "import statsmodels.api as sm"
   ]
  },
  {
   "cell_type": "code",
   "execution_count": 93,
   "metadata": {},
   "outputs": [],
   "source": [
    "# define the data/predictors as the pre-set feature names  \n",
    "# df = fish_data\n",
    "# weight = df[['Relative weight']]\n",
    "# weight = weight.fillna(0)\n",
    "# df['new_weight'] = weight\n",
    "# # Put the target (housing value -- MEDV) in another DataFrame\n",
    "# target = df[[\"new_weight\"]]\n",
    "# target\n",
    "\n",
    "# define the data/predictors as the pre-set feature names  \n",
    "specieswithweights = df.loc[df['new_weight']!=0]\n",
    "STBspecies = specieswithweights.loc[(specieswithweights['Species'] == \"STB\") | (specieswithweights['Species'] == \"stb\")]\n",
    "# SMBspecies = specieswithweights.loc[(specieswithweights['Species'] == \"SMB\") | (specieswithweights['Species'] == \"smb\")]\n",
    "\n",
    "\n",
    "# Put the target (housing value -- MEDV) in another DataFrame\n",
    "\n",
    "\n",
    "# import statsmodels.api as sm\n",
    "\n",
    "# X = df[\"new_weight\"]\n",
    "# y = target[\"new_weight\"]\n",
    "\n",
    "# # Note the difference in argument order\n",
    "# model = sm.OLS(y, X).fit()\n",
    "# predictions = model.predict(X) # make the predictions by the model\n",
    "\n",
    "# # Print out the statistics\n",
    "# model.summary()"
   ]
  },
  {
   "cell_type": "code",
   "execution_count": 3,
   "metadata": {},
   "outputs": [],
   "source": [
    "import datetime\n",
    "from datetime import timedelta\n",
    "from datetime import date\n",
    "df = fish_data\n",
    "mydate = df[[\"Date\"]]\n",
    "weight = df[['Relative weight']]\n",
    "weight = weight.fillna(0)\n",
    "newdf = pd.DataFrame(weight, mydate)\n",
    "\n",
    "new = pd.to_datetime(df['Date'], format='%Y-%m-%d %H:%M', errors='coerce')\n",
    "\n",
    "#drop the two date that claim to be from the 1600s\n",
    "type(new)\n",
    "\n",
    "lastdate = new[new.between('1980-01-01', '2020-01-01')]\n",
    "lastw = weight[new.between('1980-01-01', '2020-01-01')]"
   ]
  },
  {
   "cell_type": "code",
   "execution_count": 4,
   "metadata": {},
   "outputs": [
    {
     "name": "stderr",
     "output_type": "stream",
     "text": [
      "/Users/hannahboekweg/anaconda3/lib/python3.7/site-packages/pandas/plotting/_matplotlib/converter.py:103: FutureWarning: Using an implicitly registered datetime converter for a matplotlib plotting method. The converter was registered by pandas on import. Future versions of pandas will require you to explicitly register matplotlib converters.\n",
      "\n",
      "To register the converters:\n",
      "\t>>> from pandas.plotting import register_matplotlib_converters\n",
      "\t>>> register_matplotlib_converters()\n",
      "  warnings.warn(msg, FutureWarning)\n"
     ]
    },
    {
     "data": {
      "text/plain": [
       "[<matplotlib.lines.Line2D at 0x11ef2d908>]"
      ]
     },
     "execution_count": 4,
     "metadata": {},
     "output_type": "execute_result"
    },
    {
     "data": {
      "image/png": "[encoded data removed]",
      "text/plain": [
       "<Figure size 432x288 with 1 Axes>"
      ]
     },
     "metadata": {
      "needs_background": "light"
     },
     "output_type": "display_data"
    }
   ],
   "source": [
    "plt.plot_date(lastdate, lastw)"
   ]
  },
  {
   "cell_type": "code",
   "execution_count": 5,
   "metadata": {},
   "outputs": [],
   "source": [
    "#time must be in the form year-month-day\n",
    "import matplotlib.dates as mdates\n",
    "def get_time(df, start_time, end_time):\n",
    "    mydate = df[[\"Date\"]]\n",
    "    weight = df[['Relative weight']]\n",
    "    weight = weight.fillna(0)\n",
    "    newdf = pd.DataFrame(weight, mydate)\n",
    "\n",
    "    new = pd.to_datetime(df['Date'], format='%Y-%m-%d %H:%M', errors='coerce')\n",
    "\n",
    "    #drop the two date that claim to be from the 1600s\n",
    "    type(new)\n",
    "\n",
    "    lastdate = new[new.between(start_time, end_time)]\n",
    "    lastw = weight[new.between(start_time, end_time)]\n",
    "    \n",
    "    fig, ax = plt.subplots()\n",
    "    ax.plot_date(lastdate, lastw)\n",
    "    # ax.set_xticks(lastdate)\n",
    "    ax.xaxis.set_major_formatter(mdates.DateFormatter(\"%Y-%m\"))\n",
    "    ax.xaxis.set_minor_formatter(mdates.DateFormatter(\"%Y-%m\"))\n",
    "    _=plt.xticks(rotation=90)  "
   ]
  },
  {
   "cell_type": "code",
   "execution_count": 6,
   "metadata": {},
   "outputs": [
    {
     "data": {
      "text/html": [
       "<div>\n",
       "<style scoped>\n",
       "    .dataframe tbody tr th:only-of-type {\n",
       "        vertical-align: middle;\n",
       "    }\n",
       "\n",
       "    .dataframe tbody tr th {\n",
       "        vertical-align: top;\n",
       "    }\n",
       "\n",
       "    .dataframe thead th {\n",
       "        text-align: right;\n",
       "    }\n",
       "</style>\n",
       "<table border=\"1\" class=\"dataframe\">\n",
       "  <thead>\n",
       "    <tr style=\"text-align: right;\">\n",
       "      <th></th>\n",
       "      <th>FishID</th>\n",
       "      <th>Date</th>\n",
       "      <th>TREND</th>\n",
       "      <th>Gear</th>\n",
       "      <th>Species</th>\n",
       "      <th>Sex</th>\n",
       "      <th>Length</th>\n",
       "      <th>Mass</th>\n",
       "      <th>Ktl</th>\n",
       "      <th>Relative weight</th>\n",
       "      <th>...</th>\n",
       "      <th>parasite</th>\n",
       "      <th>misc 1 text</th>\n",
       "      <th>misc 2 num</th>\n",
       "      <th>misc 3 text</th>\n",
       "      <th>misc 4 num</th>\n",
       "      <th>Site</th>\n",
       "      <th>KFL</th>\n",
       "      <th>Day</th>\n",
       "      <th>Month</th>\n",
       "      <th>Year</th>\n",
       "    </tr>\n",
       "  </thead>\n",
       "  <tbody>\n",
       "    <tr>\n",
       "      <td>0</td>\n",
       "      <td>19710001</td>\n",
       "      <td>1971-03-09 00:00:00</td>\n",
       "      <td>1</td>\n",
       "      <td>GN</td>\n",
       "      <td>LMB</td>\n",
       "      <td>NaN</td>\n",
       "      <td>263</td>\n",
       "      <td>250.0</td>\n",
       "      <td>1.37</td>\n",
       "      <td>0.0</td>\n",
       "      <td>...</td>\n",
       "      <td>NaN</td>\n",
       "      <td>NaN</td>\n",
       "      <td>NaN</td>\n",
       "      <td>NaN</td>\n",
       "      <td>NaN</td>\n",
       "      <td>RN</td>\n",
       "      <td>0.0</td>\n",
       "      <td>9.0</td>\n",
       "      <td>3.0</td>\n",
       "      <td>1971.0</td>\n",
       "    </tr>\n",
       "    <tr>\n",
       "      <td>1</td>\n",
       "      <td>19710002</td>\n",
       "      <td>1971-03-09 00:00:00</td>\n",
       "      <td>1</td>\n",
       "      <td>GN</td>\n",
       "      <td>LMB</td>\n",
       "      <td>NaN</td>\n",
       "      <td>348</td>\n",
       "      <td>700.0</td>\n",
       "      <td>1.66</td>\n",
       "      <td>0.0</td>\n",
       "      <td>...</td>\n",
       "      <td>NaN</td>\n",
       "      <td>NaN</td>\n",
       "      <td>NaN</td>\n",
       "      <td>NaN</td>\n",
       "      <td>NaN</td>\n",
       "      <td>RN</td>\n",
       "      <td>0.0</td>\n",
       "      <td>9.0</td>\n",
       "      <td>3.0</td>\n",
       "      <td>1971.0</td>\n",
       "    </tr>\n",
       "    <tr>\n",
       "      <td>2</td>\n",
       "      <td>19710003</td>\n",
       "      <td>1971-03-09 00:00:00</td>\n",
       "      <td>1</td>\n",
       "      <td>GN</td>\n",
       "      <td>LMB</td>\n",
       "      <td>NaN</td>\n",
       "      <td>332</td>\n",
       "      <td>555.0</td>\n",
       "      <td>1.51</td>\n",
       "      <td>0.0</td>\n",
       "      <td>...</td>\n",
       "      <td>NaN</td>\n",
       "      <td>NaN</td>\n",
       "      <td>NaN</td>\n",
       "      <td>NaN</td>\n",
       "      <td>NaN</td>\n",
       "      <td>RN</td>\n",
       "      <td>NaN</td>\n",
       "      <td>9.0</td>\n",
       "      <td>3.0</td>\n",
       "      <td>1971.0</td>\n",
       "    </tr>\n",
       "    <tr>\n",
       "      <td>3</td>\n",
       "      <td>19710004</td>\n",
       "      <td>1971-03-09 00:00:00</td>\n",
       "      <td>1</td>\n",
       "      <td>GN</td>\n",
       "      <td>LMB</td>\n",
       "      <td>NaN</td>\n",
       "      <td>350</td>\n",
       "      <td>720.0</td>\n",
       "      <td>1.67</td>\n",
       "      <td>0.0</td>\n",
       "      <td>...</td>\n",
       "      <td>NaN</td>\n",
       "      <td>NaN</td>\n",
       "      <td>NaN</td>\n",
       "      <td>NaN</td>\n",
       "      <td>NaN</td>\n",
       "      <td>RN</td>\n",
       "      <td>NaN</td>\n",
       "      <td>9.0</td>\n",
       "      <td>3.0</td>\n",
       "      <td>1971.0</td>\n",
       "    </tr>\n",
       "    <tr>\n",
       "      <td>4</td>\n",
       "      <td>19710005</td>\n",
       "      <td>1971-03-09 00:00:00</td>\n",
       "      <td>1</td>\n",
       "      <td>GN</td>\n",
       "      <td>LMB</td>\n",
       "      <td>NaN</td>\n",
       "      <td>300</td>\n",
       "      <td>455.0</td>\n",
       "      <td>1.68</td>\n",
       "      <td>0.0</td>\n",
       "      <td>...</td>\n",
       "      <td>NaN</td>\n",
       "      <td>NaN</td>\n",
       "      <td>NaN</td>\n",
       "      <td>NaN</td>\n",
       "      <td>NaN</td>\n",
       "      <td>RN</td>\n",
       "      <td>NaN</td>\n",
       "      <td>9.0</td>\n",
       "      <td>3.0</td>\n",
       "      <td>1971.0</td>\n",
       "    </tr>\n",
       "  </tbody>\n",
       "</table>\n",
       "<p>5 rows × 25 columns</p>\n",
       "</div>"
      ],
      "text/plain": [
       "     FishID                 Date  TREND Gear Species  Sex  Length   Mass  \\\n",
       "0  19710001  1971-03-09 00:00:00      1   GN     LMB  NaN     263  250.0   \n",
       "1  19710002  1971-03-09 00:00:00      1   GN     LMB  NaN     348  700.0   \n",
       "2  19710003  1971-03-09 00:00:00      1   GN     LMB  NaN     332  555.0   \n",
       "3  19710004  1971-03-09 00:00:00      1   GN     LMB  NaN     350  720.0   \n",
       "4  19710005  1971-03-09 00:00:00      1   GN     LMB  NaN     300  455.0   \n",
       "\n",
       "    Ktl  Relative weight  ... parasite  misc 1 text  misc 2 num  misc 3 text  \\\n",
       "0  1.37              0.0  ...      NaN          NaN         NaN          NaN   \n",
       "1  1.66              0.0  ...      NaN          NaN         NaN          NaN   \n",
       "2  1.51              0.0  ...      NaN          NaN         NaN          NaN   \n",
       "3  1.67              0.0  ...      NaN          NaN         NaN          NaN   \n",
       "4  1.68              0.0  ...      NaN          NaN         NaN          NaN   \n",
       "\n",
       "   misc 4 num  Site  KFL  Day  Month    Year  \n",
       "0         NaN    RN  0.0  9.0    3.0  1971.0  \n",
       "1         NaN    RN  0.0  9.0    3.0  1971.0  \n",
       "2         NaN    RN  NaN  9.0    3.0  1971.0  \n",
       "3         NaN    RN  NaN  9.0    3.0  1971.0  \n",
       "4         NaN    RN  NaN  9.0    3.0  1971.0  \n",
       "\n",
       "[5 rows x 25 columns]"
      ]
     },
     "execution_count": 6,
     "metadata": {},
     "output_type": "execute_result"
    }
   ],
   "source": [
    "df.head()"
   ]
  },
  {
   "cell_type": "code",
   "execution_count": 25,
   "metadata": {},
   "outputs": [
    {
     "data": {
      "text/plain": [
       "array(['STB', 'SMB', 'stb', 'smb', 'lmb'], dtype=object)"
      ]
     },
     "execution_count": 25,
     "metadata": {},
     "output_type": "execute_result"
    }
   ],
   "source": [
    "\n"
   ]
  },
  {
   "cell_type": "code",
   "execution_count": 20,
   "metadata": {},
   "outputs": [
    {
     "data": {
      "text/plain": [
       "array([ 0., nan])"
      ]
     },
     "execution_count": 20,
     "metadata": {},
     "output_type": "execute_result"
    }
   ],
   "source": [
    "#we need to separate out the species\n",
    "import filter\n",
    "df = fish_data\n",
    "df.head()\n",
    "species = df.loc[df['Species'] == \"LMB\"]\n",
    "species['Relative weight'].unique()"
   ]
  },
  {
   "cell_type": "code",
   "execution_count": 24,
   "metadata": {},
   "outputs": [
    {
     "data": {
      "text/plain": [
       "array([ 0., nan])"
      ]
     },
     "execution_count": 24,
     "metadata": {},
     "output_type": "execute_result"
    }
   ],
   "source": [
    "fil = filter.Filter(df)\n",
    "fil.givenSpecies(['CRP'])\n",
    "fil.df[\"Relative weight\"].unique()"
   ]
  },
  {
   "cell_type": "code",
   "execution_count": 17,
   "metadata": {},
   "outputs": [
    {
     "data": {
      "text/plain": [
       "array([ 0., nan])"
      ]
     },
     "execution_count": 17,
     "metadata": {},
     "output_type": "execute_result"
    }
   ],
   "source": [
    "#let's impute the weights for the LMB species\n"
   ]
  },
  {
   "cell_type": "code",
   "execution_count": 10,
   "metadata": {},
   "outputs": [
    {
     "data": {
      "image/png": "[encoded data removed]",
      "text/plain": [
       "<Figure size 432x288 with 1 Axes>"
      ]
     },
     "metadata": {
      "needs_background": "light"
     },
     "output_type": "display_data"
    }
   ],
   "source": [
    "get_time(fil.df, '1980-01-01', '1990-01-01')"
   ]
  },
  {
   "cell_type": "code",
   "execution_count": 11,
   "metadata": {},
   "outputs": [
    {
     "ename": "TypeError",
     "evalue": "get_time() missing 1 required positional argument: 'end_time'",
     "output_type": "error",
     "traceback": [
      "\u001b[0;31m---------------------------------------------------------------------------\u001b[0m",
      "\u001b[0;31mTypeError\u001b[0m                                 Traceback (most recent call last)",
      "\u001b[0;32m<ipython-input-11-f363d4e4e561>\u001b[0m in \u001b[0;36m<module>\u001b[0;34m\u001b[0m\n\u001b[0;32m----> 1\u001b[0;31m \u001b[0mget_time\u001b[0m\u001b[0;34m(\u001b[0m\u001b[0;34m'1980-01-01'\u001b[0m\u001b[0;34m,\u001b[0m \u001b[0;34m'1981-01-01'\u001b[0m\u001b[0;34m)\u001b[0m\u001b[0;34m\u001b[0m\u001b[0;34m\u001b[0m\u001b[0m\n\u001b[0m",
      "\u001b[0;31mTypeError\u001b[0m: get_time() missing 1 required positional argument: 'end_time'"
     ]
    }
   ],
   "source": [
    "get_time('1980-01-01', '1981-01-01')\n"
   ]
  },
  {
   "cell_type": "code",
   "execution_count": null,
   "metadata": {},
   "outputs": [],
   "source": [
    "get_time('1981-01-01', '1982-01-01')"
   ]
  },
  {
   "cell_type": "code",
   "execution_count": null,
   "metadata": {},
   "outputs": [],
   "source": [
    "get_time('1980-01-01', '1982-01-01')"
   ]
  },
  {
   "cell_type": "code",
   "execution_count": null,
   "metadata": {},
   "outputs": [],
   "source": [
    "get_time('1982-01-01', '1983-01-01')"
   ]
  },
  {
   "cell_type": "code",
   "execution_count": null,
   "metadata": {},
   "outputs": [],
   "source": [
    "import matplotlib.dates as mdates\n",
    "\n",
    "df = fish_data\n",
    "mydate = df[[\"Date\"]]\n",
    "weight = df[['Relative weight']]\n",
    "weight = weight.fillna(0)\n",
    "newdf = pd.DataFrame(weight, mydate)\n",
    "\n",
    "new = pd.to_datetime(df['Date'], format='%Y-%m-%d %H:%M', errors='coerce')\n",
    "\n",
    "#drop the two date that claim to be from the 1600s\n",
    "type(new)\n",
    "\n",
    "lastdate = new[new.between('1980-01-01', '1981-01-01')]\n",
    "lastw = weight[new.between('1980-01-01', '1981-01-01')]\n",
    "\n",
    "fig, ax = plt.subplots()\n",
    "ax.plot_date(lastdate, lastw)\n",
    "# ax.set_xticks(lastdate)\n",
    "ax.xaxis.set_major_formatter(mdates.DateFormatter(\"%Y-%m\"))\n",
    "ax.xaxis.set_minor_formatter(mdates.DateFormatter(\"%Y-%m\"))\n",
    "_=plt.xticks(rotation=90)  "
   ]
  },
  {
   "cell_type": "code",
   "execution_count": null,
   "metadata": {},
   "outputs": [],
   "source": []
  }
 ],
 "metadata": {
  "kernelspec": {
   "display_name": "Python 3",
   "language": "python",
   "name": "python3"
  },
  "language_info": {
   "codemirror_mode": {
    "name": "ipython",
    "version": 3
   },
   "file_extension": ".py",
   "mimetype": "text/x-python",
   "name": "python",
   "nbconvert_exporter": "python",
   "pygments_lexer": "ipython3",
   "version": "3.7.3"
  }
 },
 "nbformat": 4,
 "nbformat_minor": 2
}
