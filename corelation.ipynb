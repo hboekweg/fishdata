{
 "nbformat": 4,
 "nbformat_minor": 2,
 "metadata": {
  "language_info": {
   "name": "python",
   "codemirror_mode": {
    "name": "ipython",
    "version": 3
   }
  },
  "orig_nbformat": 2,
  "file_extension": ".py",
  "mimetype": "text/x-python",
  "name": "python",
  "npconvert_exporter": "python",
  "pygments_lexer": "ipython3",
  "version": 3
 },
 "cells": [
  {
   "cell_type": "code",
   "execution_count": null,
   "metadata": {},
   "outputs": [
    {
     "ename": "Error",
     "evalue": "Jupyter cannot be started. Error attempting to locate jupyter: ",
     "output_type": "error",
     "traceback": [
      "Error: Jupyter cannot be started. Error attempting to locate jupyter:",
      "at A.startServer (c:\\Users\\aquag\\.vscode\\extensions\\ms-python.python-2020.2.63990\\out\\client\\extension.js:1:784356)",
      "at async A.ensureServerAndNotebookImpl (c:\\Users\\aquag\\.vscode\\extensions\\ms-python.python-2020.2.63990\\out\\client\\extension.js:1:783811)"
     ]
    }
   ],
   "source": [
    "import Fish_data"
   ]
  },
  {
   "cell_type": "code",
   "execution_count": null,
   "metadata": {},
   "outputs": [
    {
     "ename": "Error",
     "evalue": "Jupyter cannot be started. Error attempting to locate jupyter: ",
     "output_type": "error",
     "traceback": [
      "Error: Jupyter cannot be started. Error attempting to locate jupyter:",
      "at A.startServer (c:\\Users\\aquag\\.vscode\\extensions\\ms-python.python-2020.2.63990\\out\\client\\extension.js:1:784356)",
      "at async A.ensureServerAndNotebookImpl (c:\\Users\\aquag\\.vscode\\extensions\\ms-python.python-2020.2.63990\\out\\client\\extension.js:1:783811)"
     ]
    }
   ],
   "source": [
    "f = Fish_data.Fish()"
   ]
  },
  {
   "cell_type": "code",
   "execution_count": null,
   "metadata": {},
   "outputs": [
    {
     "ename": "Error",
     "evalue": "Jupyter cannot be started. Error attempting to locate jupyter: ",
     "output_type": "error",
     "traceback": [
      "Error: Jupyter cannot be started. Error attempting to locate jupyter:",
      "at A.startServer (c:\\Users\\aquag\\.vscode\\extensions\\ms-python.python-2020.2.63990\\out\\client\\extension.js:1:784356)",
      "at async A.ensureServerAndNotebookImpl (c:\\Users\\aquag\\.vscode\\extensions\\ms-python.python-2020.2.63990\\out\\client\\extension.js:1:783811)"
     ]
    }
   ],
   "source": [
    "fish_data = f.get_fish_data()\n",
    "water_data = f.get_water_data()"
   ]
  },
  {
   "cell_type": "code",
   "execution_count": null,
   "metadata": {},
   "outputs": [
    {
     "ename": "Error",
     "evalue": "Jupyter cannot be started. Error attempting to locate jupyter: ",
     "output_type": "error",
     "traceback": [
      "Error: Jupyter cannot be started. Error attempting to locate jupyter:",
      "at A.startServer (c:\\Users\\aquag\\.vscode\\extensions\\ms-python.python-2020.2.63990\\out\\client\\extension.js:1:784356)",
      "at async A.ensureServerAndNotebookImpl (c:\\Users\\aquag\\.vscode\\extensions\\ms-python.python-2020.2.63990\\out\\client\\extension.js:1:783811)"
     ]
    }
   ],
   "source": [
    "import correleation_functions"
   ]
  },
  {
   "cell_type": "code",
   "execution_count": null,
   "metadata": {},
   "outputs": [
    {
     "ename": "Error",
     "evalue": "Jupyter cannot be started. Error attempting to locate jupyter: ",
     "output_type": "error",
     "traceback": [
      "Error: Jupyter cannot be started. Error attempting to locate jupyter:",
      "at A.startServer (c:\\Users\\aquag\\.vscode\\extensions\\ms-python.python-2020.2.63990\\out\\client\\extension.js:1:784356)",
      "at async A.ensureServerAndNotebookImpl (c:\\Users\\aquag\\.vscode\\extensions\\ms-python.python-2020.2.63990\\out\\client\\extension.js:1:783811)"
     ]
    }
   ],
   "source": [
    "f"
   ]
  },
  {
   "cell_type": "code",
   "execution_count": null,
   "metadata": {},
   "outputs": [],
   "source": []
  },
  {
   "cell_type": "code",
   "execution_count": null,
   "metadata": {},
   "outputs": [],
   "source": []
  }
 ]
}