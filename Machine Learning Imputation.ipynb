{
 "cells": [
  {
   "cell_type": "code",
   "execution_count": 1,
   "metadata": {},
   "outputs": [],
   "source": [
    "import pandas as pd\n",
    "import numpy as np\n",
    "import matplotlib.pyplot as plt\n",
    "import seaborn as sns\n",
    "import missingno as mno\n",
    "from sklearn import linear_model\n",
    "%matplotlib inline\n",
    "import Fish_data"
   ]
  },
  {
   "cell_type": "code",
   "execution_count": 2,
   "metadata": {},
   "outputs": [],
   "source": [
    "f = Fish_data.Fish()"
   ]
  },
  {
   "cell_type": "code",
   "execution_count": 3,
   "metadata": {},
   "outputs": [],
   "source": [
    "df = f.get_fish_data()"
   ]
  },
  {
   "cell_type": "code",
   "execution_count": 4,
   "metadata": {},
   "outputs": [],
   "source": [
    "#fix weights\n",
    "weight = df[['Relative weight']]\n",
    "weight = weight.fillna(0)\n",
    "df['new_weight'] = weight"
   ]
  },
  {
   "cell_type": "code",
   "execution_count": 5,
   "metadata": {},
   "outputs": [],
   "source": [
    "#fix dates\n",
    "from datetime import datetime\n",
    "datetime_object = datetime.strptime('1700-3-01', '%Y-%m-%d')\n",
    "df['new_date'] = pd.to_datetime(df['Date'], format='%Y-%m-%d %H:%M', errors='coerce')\n",
    "df = df[df['new_date'] > datetime_object]"
   ]
  },
  {
   "cell_type": "code",
   "execution_count": 6,
   "metadata": {},
   "outputs": [
    {
     "data": {
      "text/html": [
       "<div>\n",
       "<style scoped>\n",
       "    .dataframe tbody tr th:only-of-type {\n",
       "        vertical-align: middle;\n",
       "    }\n",
       "\n",
       "    .dataframe tbody tr th {\n",
       "        vertical-align: top;\n",
       "    }\n",
       "\n",
       "    .dataframe thead th {\n",
       "        text-align: right;\n",
       "    }\n",
       "</style>\n",
       "<table border=\"1\" class=\"dataframe\">\n",
       "  <thead>\n",
       "    <tr style=\"text-align: right;\">\n",
       "      <th></th>\n",
       "      <th>FishID</th>\n",
       "      <th>Date</th>\n",
       "      <th>TREND</th>\n",
       "      <th>Gear</th>\n",
       "      <th>Species</th>\n",
       "      <th>Sex</th>\n",
       "      <th>Length</th>\n",
       "      <th>Mass</th>\n",
       "      <th>Ktl</th>\n",
       "      <th>Relative weight</th>\n",
       "      <th>...</th>\n",
       "      <th>misc 2 num</th>\n",
       "      <th>misc 3 text</th>\n",
       "      <th>misc 4 num</th>\n",
       "      <th>Site</th>\n",
       "      <th>KFL</th>\n",
       "      <th>Day</th>\n",
       "      <th>Month</th>\n",
       "      <th>Year</th>\n",
       "      <th>new_weight</th>\n",
       "      <th>new_date</th>\n",
       "    </tr>\n",
       "  </thead>\n",
       "  <tbody>\n",
       "    <tr>\n",
       "      <td>0</td>\n",
       "      <td>19710001</td>\n",
       "      <td>1971-03-09 00:00:00</td>\n",
       "      <td>1</td>\n",
       "      <td>GN</td>\n",
       "      <td>LMB</td>\n",
       "      <td>NaN</td>\n",
       "      <td>263</td>\n",
       "      <td>250.0</td>\n",
       "      <td>1.37</td>\n",
       "      <td>0.0</td>\n",
       "      <td>...</td>\n",
       "      <td>NaN</td>\n",
       "      <td>NaN</td>\n",
       "      <td>NaN</td>\n",
       "      <td>RN</td>\n",
       "      <td>0.0</td>\n",
       "      <td>9.0</td>\n",
       "      <td>3.0</td>\n",
       "      <td>1971.0</td>\n",
       "      <td>0.0</td>\n",
       "      <td>1971-03-09</td>\n",
       "    </tr>\n",
       "    <tr>\n",
       "      <td>1</td>\n",
       "      <td>19710002</td>\n",
       "      <td>1971-03-09 00:00:00</td>\n",
       "      <td>1</td>\n",
       "      <td>GN</td>\n",
       "      <td>LMB</td>\n",
       "      <td>NaN</td>\n",
       "      <td>348</td>\n",
       "      <td>700.0</td>\n",
       "      <td>1.66</td>\n",
       "      <td>0.0</td>\n",
       "      <td>...</td>\n",
       "      <td>NaN</td>\n",
       "      <td>NaN</td>\n",
       "      <td>NaN</td>\n",
       "      <td>RN</td>\n",
       "      <td>0.0</td>\n",
       "      <td>9.0</td>\n",
       "      <td>3.0</td>\n",
       "      <td>1971.0</td>\n",
       "      <td>0.0</td>\n",
       "      <td>1971-03-09</td>\n",
       "    </tr>\n",
       "    <tr>\n",
       "      <td>2</td>\n",
       "      <td>19710003</td>\n",
       "      <td>1971-03-09 00:00:00</td>\n",
       "      <td>1</td>\n",
       "      <td>GN</td>\n",
       "      <td>LMB</td>\n",
       "      <td>NaN</td>\n",
       "      <td>332</td>\n",
       "      <td>555.0</td>\n",
       "      <td>1.51</td>\n",
       "      <td>0.0</td>\n",
       "      <td>...</td>\n",
       "      <td>NaN</td>\n",
       "      <td>NaN</td>\n",
       "      <td>NaN</td>\n",
       "      <td>RN</td>\n",
       "      <td>NaN</td>\n",
       "      <td>9.0</td>\n",
       "      <td>3.0</td>\n",
       "      <td>1971.0</td>\n",
       "      <td>0.0</td>\n",
       "      <td>1971-03-09</td>\n",
       "    </tr>\n",
       "    <tr>\n",
       "      <td>3</td>\n",
       "      <td>19710004</td>\n",
       "      <td>1971-03-09 00:00:00</td>\n",
       "      <td>1</td>\n",
       "      <td>GN</td>\n",
       "      <td>LMB</td>\n",
       "      <td>NaN</td>\n",
       "      <td>350</td>\n",
       "      <td>720.0</td>\n",
       "      <td>1.67</td>\n",
       "      <td>0.0</td>\n",
       "      <td>...</td>\n",
       "      <td>NaN</td>\n",
       "      <td>NaN</td>\n",
       "      <td>NaN</td>\n",
       "      <td>RN</td>\n",
       "      <td>NaN</td>\n",
       "      <td>9.0</td>\n",
       "      <td>3.0</td>\n",
       "      <td>1971.0</td>\n",
       "      <td>0.0</td>\n",
       "      <td>1971-03-09</td>\n",
       "    </tr>\n",
       "    <tr>\n",
       "      <td>4</td>\n",
       "      <td>19710005</td>\n",
       "      <td>1971-03-09 00:00:00</td>\n",
       "      <td>1</td>\n",
       "      <td>GN</td>\n",
       "      <td>LMB</td>\n",
       "      <td>NaN</td>\n",
       "      <td>300</td>\n",
       "      <td>455.0</td>\n",
       "      <td>1.68</td>\n",
       "      <td>0.0</td>\n",
       "      <td>...</td>\n",
       "      <td>NaN</td>\n",
       "      <td>NaN</td>\n",
       "      <td>NaN</td>\n",
       "      <td>RN</td>\n",
       "      <td>NaN</td>\n",
       "      <td>9.0</td>\n",
       "      <td>3.0</td>\n",
       "      <td>1971.0</td>\n",
       "      <td>0.0</td>\n",
       "      <td>1971-03-09</td>\n",
       "    </tr>\n",
       "  </tbody>\n",
       "</table>\n",
       "<p>5 rows × 27 columns</p>\n",
       "</div>"
      ],
      "text/plain": [
       "     FishID                 Date  TREND Gear Species  Sex  Length   Mass  \\\n",
       "0  19710001  1971-03-09 00:00:00      1   GN     LMB  NaN     263  250.0   \n",
       "1  19710002  1971-03-09 00:00:00      1   GN     LMB  NaN     348  700.0   \n",
       "2  19710003  1971-03-09 00:00:00      1   GN     LMB  NaN     332  555.0   \n",
       "3  19710004  1971-03-09 00:00:00      1   GN     LMB  NaN     350  720.0   \n",
       "4  19710005  1971-03-09 00:00:00      1   GN     LMB  NaN     300  455.0   \n",
       "\n",
       "    Ktl  Relative weight  ... misc 2 num  misc 3 text  misc 4 num  Site  KFL  \\\n",
       "0  1.37              0.0  ...        NaN          NaN         NaN    RN  0.0   \n",
       "1  1.66              0.0  ...        NaN          NaN         NaN    RN  0.0   \n",
       "2  1.51              0.0  ...        NaN          NaN         NaN    RN  NaN   \n",
       "3  1.67              0.0  ...        NaN          NaN         NaN    RN  NaN   \n",
       "4  1.68              0.0  ...        NaN          NaN         NaN    RN  NaN   \n",
       "\n",
       "   Day Month    Year  new_weight   new_date  \n",
       "0  9.0   3.0  1971.0         0.0 1971-03-09  \n",
       "1  9.0   3.0  1971.0         0.0 1971-03-09  \n",
       "2  9.0   3.0  1971.0         0.0 1971-03-09  \n",
       "3  9.0   3.0  1971.0         0.0 1971-03-09  \n",
       "4  9.0   3.0  1971.0         0.0 1971-03-09  \n",
       "\n",
       "[5 rows x 27 columns]"
      ]
     },
     "execution_count": 6,
     "metadata": {},
     "output_type": "execute_result"
    }
   ],
   "source": [
    "df.head()"
   ]
  },
  {
   "cell_type": "markdown",
   "metadata": {},
   "source": [
    "# Visualize missing data (assume 0 are nan) \n",
    "Note that we assume a 0 weight meant that there actually was no weight recoreded."
   ]
  },
  {
   "cell_type": "code",
   "execution_count": 7,
   "metadata": {},
   "outputs": [],
   "source": [
    "newdf = df.drop(df.columns.difference(['Relative weight', \"FishID\"]), 1)"
   ]
  },
  {
   "cell_type": "code",
   "execution_count": 8,
   "metadata": {},
   "outputs": [],
   "source": [
    "newdf.replace(0, np.nan, inplace=True)"
   ]
  },
  {
   "cell_type": "code",
   "execution_count": 9,
   "metadata": {},
   "outputs": [
    {
     "data": {
      "text/html": [
       "<div>\n",
       "<style scoped>\n",
       "    .dataframe tbody tr th:only-of-type {\n",
       "        vertical-align: middle;\n",
       "    }\n",
       "\n",
       "    .dataframe tbody tr th {\n",
       "        vertical-align: top;\n",
       "    }\n",
       "\n",
       "    .dataframe thead th {\n",
       "        text-align: right;\n",
       "    }\n",
       "</style>\n",
       "<table border=\"1\" class=\"dataframe\">\n",
       "  <thead>\n",
       "    <tr style=\"text-align: right;\">\n",
       "      <th></th>\n",
       "      <th>FishID</th>\n",
       "      <th>Relative weight</th>\n",
       "    </tr>\n",
       "  </thead>\n",
       "  <tbody>\n",
       "    <tr>\n",
       "      <td>0</td>\n",
       "      <td>19710001</td>\n",
       "      <td>NaN</td>\n",
       "    </tr>\n",
       "    <tr>\n",
       "      <td>1</td>\n",
       "      <td>19710002</td>\n",
       "      <td>NaN</td>\n",
       "    </tr>\n",
       "    <tr>\n",
       "      <td>2</td>\n",
       "      <td>19710003</td>\n",
       "      <td>NaN</td>\n",
       "    </tr>\n",
       "    <tr>\n",
       "      <td>3</td>\n",
       "      <td>19710004</td>\n",
       "      <td>NaN</td>\n",
       "    </tr>\n",
       "    <tr>\n",
       "      <td>4</td>\n",
       "      <td>19710005</td>\n",
       "      <td>NaN</td>\n",
       "    </tr>\n",
       "  </tbody>\n",
       "</table>\n",
       "</div>"
      ],
      "text/plain": [
       "     FishID  Relative weight\n",
       "0  19710001              NaN\n",
       "1  19710002              NaN\n",
       "2  19710003              NaN\n",
       "3  19710004              NaN\n",
       "4  19710005              NaN"
      ]
     },
     "execution_count": 9,
     "metadata": {},
     "output_type": "execute_result"
    }
   ],
   "source": [
    "newdf.head()"
   ]
  },
  {
   "cell_type": "code",
   "execution_count": 10,
   "metadata": {},
   "outputs": [
    {
     "data": {
      "text/plain": [
       "<matplotlib.axes._subplots.AxesSubplot at 0x1a2409beb8>"
      ]
     },
     "execution_count": 10,
     "metadata": {},
     "output_type": "execute_result"
    },
    {
     "data": {
      "image/png": "[encoded data removed]",
      "text/plain": [
       "<Figure size 1440x432 with 2 Axes>"
      ]
     },
     "metadata": {
      "needs_background": "light"
     },
     "output_type": "display_data"
    }
   ],
   "source": [
    "mno.matrix(newdf, figsize = (20, 6))"
   ]
  },
  {
   "cell_type": "code",
   "execution_count": 11,
   "metadata": {},
   "outputs": [
    {
     "data": {
      "text/plain": [
       "<matplotlib.axes._subplots.AxesSubplot at 0x1a25e3fef0>"
      ]
     },
     "execution_count": 11,
     "metadata": {},
     "output_type": "execute_result"
    },
    {
     "data": {
      "image/png": "[encoded data removed]",
      "text/plain": [
       "<Figure size 1440x432 with 2 Axes>"
      ]
     },
     "metadata": {
      "needs_background": "light"
     },
     "output_type": "display_data"
    }
   ],
   "source": [
    "mno.matrix(df, figsize = (20, 6))"
   ]
  },
  {
   "cell_type": "markdown",
   "metadata": {},
   "source": [
    "# View STB and SMB across time"
   ]
  },
  {
   "cell_type": "code",
   "execution_count": 12,
   "metadata": {},
   "outputs": [],
   "source": [
    "STBspecies = df.loc[(df['Species'] == \"STB\") | (df['Species'] == \"stb\")]"
   ]
  },
  {
   "cell_type": "code",
   "execution_count": 13,
   "metadata": {},
   "outputs": [
    {
     "data": {
      "image/png": "[encoded data removed]",
      "text/plain": [
       "<Figure size 432x288 with 1 Axes>"
      ]
     },
     "metadata": {
      "needs_background": "light"
     },
     "output_type": "display_data"
    }
   ],
   "source": [
    "STBspecies.plot(x='new_date', y='new_weight', style='o')  \n",
    "plt.title('MinTemp vs MaxTemp')  \n",
    "plt.xlabel('time')  \n",
    "plt.ylabel('weight')  \n",
    "plt.show()"
   ]
  },
  {
   "cell_type": "code",
   "execution_count": 27,
   "metadata": {},
   "outputs": [],
   "source": [
    "SMBspecies = df.loc[(df['Species'] == \"SMB\") | (df['Species'] == \"smb\")]"
   ]
  },
  {
   "cell_type": "code",
   "execution_count": 29,
   "metadata": {},
   "outputs": [
    {
     "data": {
      "image/png": "[encoded data removed]",
      "text/plain": [
       "<Figure size 432x288 with 1 Axes>"
      ]
     },
     "metadata": {
      "needs_background": "light"
     },
     "output_type": "display_data"
    }
   ],
   "source": [
    "SMBspecies.plot(x='new_date', y='new_weight', style='o')  \n",
    "plt.title('MinTemp vs MaxTemp')  \n",
    "plt.xlabel('time')  \n",
    "plt.ylabel('weight')  \n",
    "plt.show()"
   ]
  },
  {
   "cell_type": "markdown",
   "metadata": {},
   "source": [
    "# Imputing Data"
   ]
  },
  {
   "cell_type": "markdown",
   "metadata": {},
   "source": [
    "Initially imputing all the variables with missing values using some trivial methods like Simple Random Imputation (we impute the missing data with random observed values of the variable) which is later followed by Regression Imputation of each of the variables iteratively."
   ]
  },
  {
   "cell_type": "markdown",
   "metadata": {},
   "source": [
    "The function random_imputation replaces the missing values with some random observed values of the variable. The method is repeated for all the variables containing missing values, after which they serve as parameters in the regression model to estimate other variable values."
   ]
  },
  {
   "cell_type": "code",
   "execution_count": 15,
   "metadata": {},
   "outputs": [],
   "source": [
    "import numpy as np\n",
    "from sklearn.impute import SimpleImputer"
   ]
  },
  {
   "cell_type": "code",
   "execution_count": 16,
   "metadata": {},
   "outputs": [],
   "source": [
    "dfna = df.replace(0, np.nan)"
   ]
  },
  {
   "cell_type": "code",
   "execution_count": 17,
   "metadata": {},
   "outputs": [
    {
     "data": {
      "text/html": [
       "<div>\n",
       "<style scoped>\n",
       "    .dataframe tbody tr th:only-of-type {\n",
       "        vertical-align: middle;\n",
       "    }\n",
       "\n",
       "    .dataframe tbody tr th {\n",
       "        vertical-align: top;\n",
       "    }\n",
       "\n",
       "    .dataframe thead th {\n",
       "        text-align: right;\n",
       "    }\n",
       "</style>\n",
       "<table border=\"1\" class=\"dataframe\">\n",
       "  <thead>\n",
       "    <tr style=\"text-align: right;\">\n",
       "      <th></th>\n",
       "      <th>FishID</th>\n",
       "      <th>Date</th>\n",
       "      <th>TREND</th>\n",
       "      <th>Gear</th>\n",
       "      <th>Species</th>\n",
       "      <th>Sex</th>\n",
       "      <th>Length</th>\n",
       "      <th>Mass</th>\n",
       "      <th>Ktl</th>\n",
       "      <th>Relative weight</th>\n",
       "      <th>...</th>\n",
       "      <th>misc 2 num</th>\n",
       "      <th>misc 3 text</th>\n",
       "      <th>misc 4 num</th>\n",
       "      <th>Site</th>\n",
       "      <th>KFL</th>\n",
       "      <th>Day</th>\n",
       "      <th>Month</th>\n",
       "      <th>Year</th>\n",
       "      <th>new_weight</th>\n",
       "      <th>new_date</th>\n",
       "    </tr>\n",
       "  </thead>\n",
       "  <tbody>\n",
       "    <tr>\n",
       "      <td>0</td>\n",
       "      <td>19710001</td>\n",
       "      <td>1971-03-09</td>\n",
       "      <td>1.0</td>\n",
       "      <td>GN</td>\n",
       "      <td>LMB</td>\n",
       "      <td>NaN</td>\n",
       "      <td>263.0</td>\n",
       "      <td>250.0</td>\n",
       "      <td>1.37</td>\n",
       "      <td>NaN</td>\n",
       "      <td>...</td>\n",
       "      <td>NaN</td>\n",
       "      <td>NaN</td>\n",
       "      <td>NaN</td>\n",
       "      <td>RN</td>\n",
       "      <td>NaN</td>\n",
       "      <td>9.0</td>\n",
       "      <td>3.0</td>\n",
       "      <td>1971.0</td>\n",
       "      <td>NaN</td>\n",
       "      <td>1971-03-09</td>\n",
       "    </tr>\n",
       "    <tr>\n",
       "      <td>1</td>\n",
       "      <td>19710002</td>\n",
       "      <td>1971-03-09</td>\n",
       "      <td>1.0</td>\n",
       "      <td>GN</td>\n",
       "      <td>LMB</td>\n",
       "      <td>NaN</td>\n",
       "      <td>348.0</td>\n",
       "      <td>700.0</td>\n",
       "      <td>1.66</td>\n",
       "      <td>NaN</td>\n",
       "      <td>...</td>\n",
       "      <td>NaN</td>\n",
       "      <td>NaN</td>\n",
       "      <td>NaN</td>\n",
       "      <td>RN</td>\n",
       "      <td>NaN</td>\n",
       "      <td>9.0</td>\n",
       "      <td>3.0</td>\n",
       "      <td>1971.0</td>\n",
       "      <td>NaN</td>\n",
       "      <td>1971-03-09</td>\n",
       "    </tr>\n",
       "    <tr>\n",
       "      <td>2</td>\n",
       "      <td>19710003</td>\n",
       "      <td>1971-03-09</td>\n",
       "      <td>1.0</td>\n",
       "      <td>GN</td>\n",
       "      <td>LMB</td>\n",
       "      <td>NaN</td>\n",
       "      <td>332.0</td>\n",
       "      <td>555.0</td>\n",
       "      <td>1.51</td>\n",
       "      <td>NaN</td>\n",
       "      <td>...</td>\n",
       "      <td>NaN</td>\n",
       "      <td>NaN</td>\n",
       "      <td>NaN</td>\n",
       "      <td>RN</td>\n",
       "      <td>NaN</td>\n",
       "      <td>9.0</td>\n",
       "      <td>3.0</td>\n",
       "      <td>1971.0</td>\n",
       "      <td>NaN</td>\n",
       "      <td>1971-03-09</td>\n",
       "    </tr>\n",
       "    <tr>\n",
       "      <td>3</td>\n",
       "      <td>19710004</td>\n",
       "      <td>1971-03-09</td>\n",
       "      <td>1.0</td>\n",
       "      <td>GN</td>\n",
       "      <td>LMB</td>\n",
       "      <td>NaN</td>\n",
       "      <td>350.0</td>\n",
       "      <td>720.0</td>\n",
       "      <td>1.67</td>\n",
       "      <td>NaN</td>\n",
       "      <td>...</td>\n",
       "      <td>NaN</td>\n",
       "      <td>NaN</td>\n",
       "      <td>NaN</td>\n",
       "      <td>RN</td>\n",
       "      <td>NaN</td>\n",
       "      <td>9.0</td>\n",
       "      <td>3.0</td>\n",
       "      <td>1971.0</td>\n",
       "      <td>NaN</td>\n",
       "      <td>1971-03-09</td>\n",
       "    </tr>\n",
       "    <tr>\n",
       "      <td>4</td>\n",
       "      <td>19710005</td>\n",
       "      <td>1971-03-09</td>\n",
       "      <td>1.0</td>\n",
       "      <td>GN</td>\n",
       "      <td>LMB</td>\n",
       "      <td>NaN</td>\n",
       "      <td>300.0</td>\n",
       "      <td>455.0</td>\n",
       "      <td>1.68</td>\n",
       "      <td>NaN</td>\n",
       "      <td>...</td>\n",
       "      <td>NaN</td>\n",
       "      <td>NaN</td>\n",
       "      <td>NaN</td>\n",
       "      <td>RN</td>\n",
       "      <td>NaN</td>\n",
       "      <td>9.0</td>\n",
       "      <td>3.0</td>\n",
       "      <td>1971.0</td>\n",
       "      <td>NaN</td>\n",
       "      <td>1971-03-09</td>\n",
       "    </tr>\n",
       "  </tbody>\n",
       "</table>\n",
       "<p>5 rows × 27 columns</p>\n",
       "</div>"
      ],
      "text/plain": [
       "     FishID       Date  TREND Gear Species  Sex  Length   Mass   Ktl  \\\n",
       "0  19710001 1971-03-09    1.0   GN     LMB  NaN   263.0  250.0  1.37   \n",
       "1  19710002 1971-03-09    1.0   GN     LMB  NaN   348.0  700.0  1.66   \n",
       "2  19710003 1971-03-09    1.0   GN     LMB  NaN   332.0  555.0  1.51   \n",
       "3  19710004 1971-03-09    1.0   GN     LMB  NaN   350.0  720.0  1.67   \n",
       "4  19710005 1971-03-09    1.0   GN     LMB  NaN   300.0  455.0  1.68   \n",
       "\n",
       "   Relative weight  ... misc 2 num  misc 3 text  misc 4 num  Site  KFL  Day  \\\n",
       "0              NaN  ...        NaN          NaN         NaN    RN  NaN  9.0   \n",
       "1              NaN  ...        NaN          NaN         NaN    RN  NaN  9.0   \n",
       "2              NaN  ...        NaN          NaN         NaN    RN  NaN  9.0   \n",
       "3              NaN  ...        NaN          NaN         NaN    RN  NaN  9.0   \n",
       "4              NaN  ...        NaN          NaN         NaN    RN  NaN  9.0   \n",
       "\n",
       "  Month    Year  new_weight   new_date  \n",
       "0   3.0  1971.0         NaN 1971-03-09  \n",
       "1   3.0  1971.0         NaN 1971-03-09  \n",
       "2   3.0  1971.0         NaN 1971-03-09  \n",
       "3   3.0  1971.0         NaN 1971-03-09  \n",
       "4   3.0  1971.0         NaN 1971-03-09  \n",
       "\n",
       "[5 rows x 27 columns]"
      ]
     },
     "execution_count": 17,
     "metadata": {},
     "output_type": "execute_result"
    }
   ],
   "source": [
    "dfna.head()"
   ]
  },
  {
   "cell_type": "markdown",
   "metadata": {},
   "source": [
    "# Impute for STB"
   ]
  },
  {
   "cell_type": "code",
   "execution_count": 18,
   "metadata": {},
   "outputs": [],
   "source": [
    "STBspeciesna = dfna.loc[(dfna['Species'] == \"STB\") | (dfna['Species'] == \"stb\")]"
   ]
  },
  {
   "cell_type": "code",
   "execution_count": 19,
   "metadata": {},
   "outputs": [
    {
     "data": {
      "text/html": [
       "<div>\n",
       "<style scoped>\n",
       "    .dataframe tbody tr th:only-of-type {\n",
       "        vertical-align: middle;\n",
       "    }\n",
       "\n",
       "    .dataframe tbody tr th {\n",
       "        vertical-align: top;\n",
       "    }\n",
       "\n",
       "    .dataframe thead th {\n",
       "        text-align: right;\n",
       "    }\n",
       "</style>\n",
       "<table border=\"1\" class=\"dataframe\">\n",
       "  <thead>\n",
       "    <tr style=\"text-align: right;\">\n",
       "      <th></th>\n",
       "      <th>FishID</th>\n",
       "      <th>Date</th>\n",
       "      <th>TREND</th>\n",
       "      <th>Gear</th>\n",
       "      <th>Species</th>\n",
       "      <th>Sex</th>\n",
       "      <th>Length</th>\n",
       "      <th>Mass</th>\n",
       "      <th>Ktl</th>\n",
       "      <th>Relative weight</th>\n",
       "      <th>...</th>\n",
       "      <th>misc 2 num</th>\n",
       "      <th>misc 3 text</th>\n",
       "      <th>misc 4 num</th>\n",
       "      <th>Site</th>\n",
       "      <th>KFL</th>\n",
       "      <th>Day</th>\n",
       "      <th>Month</th>\n",
       "      <th>Year</th>\n",
       "      <th>new_weight</th>\n",
       "      <th>new_date</th>\n",
       "    </tr>\n",
       "  </thead>\n",
       "  <tbody>\n",
       "    <tr>\n",
       "      <td>4200</td>\n",
       "      <td>19770087</td>\n",
       "      <td>1977-03-24</td>\n",
       "      <td>1.0</td>\n",
       "      <td>GN</td>\n",
       "      <td>STB</td>\n",
       "      <td>NaN</td>\n",
       "      <td>421.0</td>\n",
       "      <td>900.0</td>\n",
       "      <td>1.20</td>\n",
       "      <td>NaN</td>\n",
       "      <td>...</td>\n",
       "      <td>NaN</td>\n",
       "      <td>NaN</td>\n",
       "      <td>NaN</td>\n",
       "      <td>PB</td>\n",
       "      <td>1.0</td>\n",
       "      <td>24.0</td>\n",
       "      <td>3.0</td>\n",
       "      <td>1977.0</td>\n",
       "      <td>NaN</td>\n",
       "      <td>1977-03-24</td>\n",
       "    </tr>\n",
       "    <tr>\n",
       "      <td>4201</td>\n",
       "      <td>19770088</td>\n",
       "      <td>1977-03-24</td>\n",
       "      <td>1.0</td>\n",
       "      <td>GN</td>\n",
       "      <td>STB</td>\n",
       "      <td>NaN</td>\n",
       "      <td>463.0</td>\n",
       "      <td>1180.0</td>\n",
       "      <td>1.18</td>\n",
       "      <td>96.0</td>\n",
       "      <td>...</td>\n",
       "      <td>NaN</td>\n",
       "      <td>NaN</td>\n",
       "      <td>NaN</td>\n",
       "      <td>PB</td>\n",
       "      <td>1.0</td>\n",
       "      <td>24.0</td>\n",
       "      <td>3.0</td>\n",
       "      <td>1977.0</td>\n",
       "      <td>96.0</td>\n",
       "      <td>1977-03-24</td>\n",
       "    </tr>\n",
       "    <tr>\n",
       "      <td>4202</td>\n",
       "      <td>19770089</td>\n",
       "      <td>1977-03-23</td>\n",
       "      <td>1.0</td>\n",
       "      <td>GN</td>\n",
       "      <td>STB</td>\n",
       "      <td>NaN</td>\n",
       "      <td>320.0</td>\n",
       "      <td>500.0</td>\n",
       "      <td>1.52</td>\n",
       "      <td>123.0</td>\n",
       "      <td>...</td>\n",
       "      <td>NaN</td>\n",
       "      <td>NaN</td>\n",
       "      <td>NaN</td>\n",
       "      <td>RN</td>\n",
       "      <td>2.0</td>\n",
       "      <td>23.0</td>\n",
       "      <td>3.0</td>\n",
       "      <td>1977.0</td>\n",
       "      <td>123.0</td>\n",
       "      <td>1977-03-23</td>\n",
       "    </tr>\n",
       "    <tr>\n",
       "      <td>4203</td>\n",
       "      <td>19770090</td>\n",
       "      <td>1977-03-23</td>\n",
       "      <td>1.0</td>\n",
       "      <td>GN</td>\n",
       "      <td>STB</td>\n",
       "      <td>NaN</td>\n",
       "      <td>310.0</td>\n",
       "      <td>525.0</td>\n",
       "      <td>1.76</td>\n",
       "      <td>142.0</td>\n",
       "      <td>...</td>\n",
       "      <td>NaN</td>\n",
       "      <td>NaN</td>\n",
       "      <td>NaN</td>\n",
       "      <td>RN</td>\n",
       "      <td>2.0</td>\n",
       "      <td>23.0</td>\n",
       "      <td>3.0</td>\n",
       "      <td>1977.0</td>\n",
       "      <td>142.0</td>\n",
       "      <td>1977-03-23</td>\n",
       "    </tr>\n",
       "    <tr>\n",
       "      <td>4204</td>\n",
       "      <td>19770091</td>\n",
       "      <td>1977-03-23</td>\n",
       "      <td>1.0</td>\n",
       "      <td>GN</td>\n",
       "      <td>STB</td>\n",
       "      <td>NaN</td>\n",
       "      <td>375.0</td>\n",
       "      <td>900.0</td>\n",
       "      <td>1.70</td>\n",
       "      <td>137.0</td>\n",
       "      <td>...</td>\n",
       "      <td>NaN</td>\n",
       "      <td>NaN</td>\n",
       "      <td>NaN</td>\n",
       "      <td>RN</td>\n",
       "      <td>2.0</td>\n",
       "      <td>23.0</td>\n",
       "      <td>3.0</td>\n",
       "      <td>1977.0</td>\n",
       "      <td>137.0</td>\n",
       "      <td>1977-03-23</td>\n",
       "    </tr>\n",
       "  </tbody>\n",
       "</table>\n",
       "<p>5 rows × 27 columns</p>\n",
       "</div>"
      ],
      "text/plain": [
       "        FishID       Date  TREND Gear Species  Sex  Length    Mass   Ktl  \\\n",
       "4200  19770087 1977-03-24    1.0   GN     STB  NaN   421.0   900.0  1.20   \n",
       "4201  19770088 1977-03-24    1.0   GN     STB  NaN   463.0  1180.0  1.18   \n",
       "4202  19770089 1977-03-23    1.0   GN     STB  NaN   320.0   500.0  1.52   \n",
       "4203  19770090 1977-03-23    1.0   GN     STB  NaN   310.0   525.0  1.76   \n",
       "4204  19770091 1977-03-23    1.0   GN     STB  NaN   375.0   900.0  1.70   \n",
       "\n",
       "      Relative weight  ... misc 2 num  misc 3 text  misc 4 num  Site  KFL  \\\n",
       "4200              NaN  ...        NaN          NaN         NaN    PB  1.0   \n",
       "4201             96.0  ...        NaN          NaN         NaN    PB  1.0   \n",
       "4202            123.0  ...        NaN          NaN         NaN    RN  2.0   \n",
       "4203            142.0  ...        NaN          NaN         NaN    RN  2.0   \n",
       "4204            137.0  ...        NaN          NaN         NaN    RN  2.0   \n",
       "\n",
       "       Day Month    Year  new_weight   new_date  \n",
       "4200  24.0   3.0  1977.0         NaN 1977-03-24  \n",
       "4201  24.0   3.0  1977.0        96.0 1977-03-24  \n",
       "4202  23.0   3.0  1977.0       123.0 1977-03-23  \n",
       "4203  23.0   3.0  1977.0       142.0 1977-03-23  \n",
       "4204  23.0   3.0  1977.0       137.0 1977-03-23  \n",
       "\n",
       "[5 rows x 27 columns]"
      ]
     },
     "execution_count": 19,
     "metadata": {},
     "output_type": "execute_result"
    }
   ],
   "source": [
    "STBspeciesna.head()"
   ]
  },
  {
   "cell_type": "code",
   "execution_count": 20,
   "metadata": {},
   "outputs": [
    {
     "data": {
      "text/plain": [
       "SimpleImputer(add_indicator=False, copy=True, fill_value=None,\n",
       "              missing_values=nan, strategy='mean', verbose=0)"
      ]
     },
     "execution_count": 20,
     "metadata": {},
     "output_type": "execute_result"
    }
   ],
   "source": [
    "imp=SimpleImputer(missing_values=np.nan, strategy=\"mean\" )\n",
    "imp.fit(STBspecies[\"Relative weight\"].to_numpy().reshape(-1, 1))"
   ]
  },
  {
   "cell_type": "code",
   "execution_count": 21,
   "metadata": {},
   "outputs": [],
   "source": [
    "pd.options.mode.chained_assignment = None  # default='warn'\n",
    "STBspeciesna[\"imputed\"] = imp.transform(STBspeciesna[\"Relative weight\"].to_numpy().reshape(-1, 1))\n"
   ]
  },
  {
   "cell_type": "code",
   "execution_count": 23,
   "metadata": {},
   "outputs": [
    {
     "data": {
      "image/png": "[encoded data removed]",
      "text/plain": [
       "<Figure size 432x288 with 1 Axes>"
      ]
     },
     "metadata": {
      "needs_background": "light"
     },
     "output_type": "display_data"
    }
   ],
   "source": [
    "STBspeciesna.plot(x='new_date', y='imputed', style='o')  \n",
    "plt.title('MinTemp vs MaxTemp')  \n",
    "plt.xlabel('time')  \n",
    "plt.ylabel('imputed weight')  \n",
    "plt.show()"
   ]
  },
  {
   "cell_type": "code",
   "execution_count": 45,
   "metadata": {},
   "outputs": [],
   "source": [
    "# newdf = df.drop(STBspeciesna.columns.difference(['Relative weight', \"FishID\", 'imputed']), 1)\n",
    "# mno.matrix(newdf, figsize = (20, 6))"
   ]
  },
  {
   "cell_type": "markdown",
   "metadata": {},
   "source": [
    "# Impute SMB"
   ]
  },
  {
   "cell_type": "code",
   "execution_count": 37,
   "metadata": {},
   "outputs": [],
   "source": [
    "SMBspeciesna = dfna.loc[(dfna['Species'] == \"SMB\") | (dfna['Species'] == \"smb\")]"
   ]
  },
  {
   "cell_type": "code",
   "execution_count": 43,
   "metadata": {},
   "outputs": [
    {
     "data": {
      "text/html": [
       "<div>\n",
       "<style scoped>\n",
       "    .dataframe tbody tr th:only-of-type {\n",
       "        vertical-align: middle;\n",
       "    }\n",
       "\n",
       "    .dataframe tbody tr th {\n",
       "        vertical-align: top;\n",
       "    }\n",
       "\n",
       "    .dataframe thead th {\n",
       "        text-align: right;\n",
       "    }\n",
       "</style>\n",
       "<table border=\"1\" class=\"dataframe\">\n",
       "  <thead>\n",
       "    <tr style=\"text-align: right;\">\n",
       "      <th></th>\n",
       "      <th>FishID</th>\n",
       "      <th>Date</th>\n",
       "      <th>TREND</th>\n",
       "      <th>Gear</th>\n",
       "      <th>Species</th>\n",
       "      <th>Sex</th>\n",
       "      <th>Length</th>\n",
       "      <th>Mass</th>\n",
       "      <th>Ktl</th>\n",
       "      <th>Relative weight</th>\n",
       "      <th>...</th>\n",
       "      <th>misc 3 text</th>\n",
       "      <th>misc 4 num</th>\n",
       "      <th>Site</th>\n",
       "      <th>KFL</th>\n",
       "      <th>Day</th>\n",
       "      <th>Month</th>\n",
       "      <th>Year</th>\n",
       "      <th>new_weight</th>\n",
       "      <th>new_date</th>\n",
       "      <th>imputed</th>\n",
       "    </tr>\n",
       "  </thead>\n",
       "  <tbody>\n",
       "    <tr>\n",
       "      <td>20138</td>\n",
       "      <td>19812061</td>\n",
       "      <td>1981-09-04</td>\n",
       "      <td>1.0</td>\n",
       "      <td>EL</td>\n",
       "      <td>SMB</td>\n",
       "      <td>NaN</td>\n",
       "      <td>80.0</td>\n",
       "      <td>NaN</td>\n",
       "      <td>NaN</td>\n",
       "      <td>NaN</td>\n",
       "      <td>...</td>\n",
       "      <td>NaN</td>\n",
       "      <td>NaN</td>\n",
       "      <td>BF</td>\n",
       "      <td>NaN</td>\n",
       "      <td>4.0</td>\n",
       "      <td>9.0</td>\n",
       "      <td>1981.0</td>\n",
       "      <td>NaN</td>\n",
       "      <td>1981-09-04</td>\n",
       "      <td>31.911093</td>\n",
       "    </tr>\n",
       "    <tr>\n",
       "      <td>20139</td>\n",
       "      <td>19812062</td>\n",
       "      <td>1981-09-04</td>\n",
       "      <td>1.0</td>\n",
       "      <td>EL</td>\n",
       "      <td>SMB</td>\n",
       "      <td>NaN</td>\n",
       "      <td>69.0</td>\n",
       "      <td>NaN</td>\n",
       "      <td>NaN</td>\n",
       "      <td>NaN</td>\n",
       "      <td>...</td>\n",
       "      <td>NaN</td>\n",
       "      <td>NaN</td>\n",
       "      <td>BF</td>\n",
       "      <td>NaN</td>\n",
       "      <td>4.0</td>\n",
       "      <td>9.0</td>\n",
       "      <td>1981.0</td>\n",
       "      <td>NaN</td>\n",
       "      <td>1981-09-04</td>\n",
       "      <td>31.911093</td>\n",
       "    </tr>\n",
       "    <tr>\n",
       "      <td>20140</td>\n",
       "      <td>19812063</td>\n",
       "      <td>1981-09-04</td>\n",
       "      <td>1.0</td>\n",
       "      <td>EL</td>\n",
       "      <td>SMB</td>\n",
       "      <td>NaN</td>\n",
       "      <td>82.0</td>\n",
       "      <td>NaN</td>\n",
       "      <td>NaN</td>\n",
       "      <td>NaN</td>\n",
       "      <td>...</td>\n",
       "      <td>NaN</td>\n",
       "      <td>NaN</td>\n",
       "      <td>BF</td>\n",
       "      <td>NaN</td>\n",
       "      <td>4.0</td>\n",
       "      <td>9.0</td>\n",
       "      <td>1981.0</td>\n",
       "      <td>NaN</td>\n",
       "      <td>1981-09-04</td>\n",
       "      <td>31.911093</td>\n",
       "    </tr>\n",
       "    <tr>\n",
       "      <td>20448</td>\n",
       "      <td>19812371</td>\n",
       "      <td>1981-08-31</td>\n",
       "      <td>1.0</td>\n",
       "      <td>EL</td>\n",
       "      <td>SMB</td>\n",
       "      <td>NaN</td>\n",
       "      <td>105.0</td>\n",
       "      <td>NaN</td>\n",
       "      <td>NaN</td>\n",
       "      <td>NaN</td>\n",
       "      <td>...</td>\n",
       "      <td>NaN</td>\n",
       "      <td>NaN</td>\n",
       "      <td>RN</td>\n",
       "      <td>NaN</td>\n",
       "      <td>31.0</td>\n",
       "      <td>8.0</td>\n",
       "      <td>1981.0</td>\n",
       "      <td>NaN</td>\n",
       "      <td>1981-08-31</td>\n",
       "      <td>31.911093</td>\n",
       "    </tr>\n",
       "    <tr>\n",
       "      <td>20909</td>\n",
       "      <td>19812832</td>\n",
       "      <td>1981-08-29</td>\n",
       "      <td>1.0</td>\n",
       "      <td>EL</td>\n",
       "      <td>SMB</td>\n",
       "      <td>NaN</td>\n",
       "      <td>94.0</td>\n",
       "      <td>NaN</td>\n",
       "      <td>NaN</td>\n",
       "      <td>NaN</td>\n",
       "      <td>...</td>\n",
       "      <td>NaN</td>\n",
       "      <td>NaN</td>\n",
       "      <td>SJ</td>\n",
       "      <td>NaN</td>\n",
       "      <td>29.0</td>\n",
       "      <td>8.0</td>\n",
       "      <td>1981.0</td>\n",
       "      <td>NaN</td>\n",
       "      <td>1981-08-29</td>\n",
       "      <td>31.911093</td>\n",
       "    </tr>\n",
       "  </tbody>\n",
       "</table>\n",
       "<p>5 rows × 28 columns</p>\n",
       "</div>"
      ],
      "text/plain": [
       "         FishID       Date  TREND Gear Species  Sex  Length  Mass  Ktl  \\\n",
       "20138  19812061 1981-09-04    1.0   EL     SMB  NaN    80.0   NaN  NaN   \n",
       "20139  19812062 1981-09-04    1.0   EL     SMB  NaN    69.0   NaN  NaN   \n",
       "20140  19812063 1981-09-04    1.0   EL     SMB  NaN    82.0   NaN  NaN   \n",
       "20448  19812371 1981-08-31    1.0   EL     SMB  NaN   105.0   NaN  NaN   \n",
       "20909  19812832 1981-08-29    1.0   EL     SMB  NaN    94.0   NaN  NaN   \n",
       "\n",
       "       Relative weight  ... misc 3 text  misc 4 num  Site  KFL   Day  Month  \\\n",
       "20138              NaN  ...         NaN         NaN    BF  NaN   4.0    9.0   \n",
       "20139              NaN  ...         NaN         NaN    BF  NaN   4.0    9.0   \n",
       "20140              NaN  ...         NaN         NaN    BF  NaN   4.0    9.0   \n",
       "20448              NaN  ...         NaN         NaN    RN  NaN  31.0    8.0   \n",
       "20909              NaN  ...         NaN         NaN    SJ  NaN  29.0    8.0   \n",
       "\n",
       "         Year  new_weight   new_date    imputed  \n",
       "20138  1981.0         NaN 1981-09-04  31.911093  \n",
       "20139  1981.0         NaN 1981-09-04  31.911093  \n",
       "20140  1981.0         NaN 1981-09-04  31.911093  \n",
       "20448  1981.0         NaN 1981-08-31  31.911093  \n",
       "20909  1981.0         NaN 1981-08-29  31.911093  \n",
       "\n",
       "[5 rows x 28 columns]"
      ]
     },
     "execution_count": 43,
     "metadata": {},
     "output_type": "execute_result"
    }
   ],
   "source": [
    "SMBspeciesna.head()"
   ]
  },
  {
   "cell_type": "code",
   "execution_count": 39,
   "metadata": {},
   "outputs": [
    {
     "data": {
      "text/plain": [
       "SimpleImputer(add_indicator=False, copy=True, fill_value=None,\n",
       "              missing_values=nan, strategy='mean', verbose=0)"
      ]
     },
     "execution_count": 39,
     "metadata": {},
     "output_type": "execute_result"
    }
   ],
   "source": [
    "imp=SimpleImputer(missing_values=np.nan, strategy=\"mean\" )\n",
    "imp.fit(SMBspecies[\"Relative weight\"].to_numpy().reshape(-1, 1))"
   ]
  },
  {
   "cell_type": "code",
   "execution_count": 40,
   "metadata": {},
   "outputs": [],
   "source": [
    "pd.options.mode.chained_assignment = None  # default='warn'\n",
    "SMBspeciesna[\"imputed\"] = imp.transform(SMBspeciesna[\"Relative weight\"].to_numpy().reshape(-1, 1))"
   ]
  },
  {
   "cell_type": "code",
   "execution_count": 42,
   "metadata": {},
   "outputs": [
    {
     "data": {
      "image/png": "[encoded data removed]",
      "text/plain": [
       "<Figure size 432x288 with 1 Axes>"
      ]
     },
     "metadata": {
      "needs_background": "light"
     },
     "output_type": "display_data"
    }
   ],
   "source": [
    "SMBspeciesna.plot(x='new_date', y='imputed', style='o')  \n",
    "plt.title('MinTemp vs MaxTemp')  \n",
    "plt.xlabel('time')  \n",
    "plt.ylabel('imputed weight')  \n",
    "plt.show()"
   ]
  },
  {
   "cell_type": "code",
   "execution_count": 46,
   "metadata": {},
   "outputs": [],
   "source": [
    "# newdf = df.drop(SMBspeciesna.columns.difference(['Relative weight', \"FishID\", 'imputed']), 1)\n",
    "# mno.matrix(newdf, figsize = (20, 6))"
   ]
  },
  {
   "cell_type": "markdown",
   "metadata": {},
   "source": [
    "# Linear Regression"
   ]
  },
  {
   "cell_type": "code",
   "execution_count": null,
   "metadata": {},
   "outputs": [],
   "source": []
  }
 ],
 "metadata": {
  "kernelspec": {
   "display_name": "Python 3",
   "language": "python",
   "name": "python3"
  },
  "language_info": {
   "codemirror_mode": {
    "name": "ipython",
    "version": 3
   },
   "file_extension": ".py",
   "mimetype": "text/x-python",
   "name": "python",
   "nbconvert_exporter": "python",
   "pygments_lexer": "ipython3",
   "version": "3.7.3"
  }
 },
 "nbformat": 4,
 "nbformat_minor": 2
}
