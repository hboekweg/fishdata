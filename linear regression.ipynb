{
 "cells": [
  {
   "cell_type": "code",
   "execution_count": 1,
   "metadata": {},
   "outputs": [],
   "source": [
    "import pandas as pd  \n",
    "import numpy as np  \n",
    "import matplotlib.pyplot as plt  \n",
    "import seaborn as seabornInstance \n",
    "from sklearn.model_selection import train_test_split \n",
    "from sklearn.linear_model import LinearRegression\n",
    "from sklearn import metrics\n",
    "%matplotlib inline\n",
    "import Fish_data"
   ]
  },
  {
   "cell_type": "code",
   "execution_count": 2,
   "metadata": {},
   "outputs": [],
   "source": [
    "f = Fish_data .Fish()\n",
    "dataset = f.get_fish_data()"
   ]
  },
  {
   "cell_type": "code",
   "execution_count": 3,
   "metadata": {},
   "outputs": [],
   "source": [
    "#fix weights\n",
    "weight = dataset[['Relative weight']]\n",
    "weight = weight.fillna(0)\n",
    "dataset['new_weight'] = weight"
   ]
  },
  {
   "cell_type": "code",
   "execution_count": 4,
   "metadata": {},
   "outputs": [],
   "source": [
    "#fix dates\n",
    "from datetime import datetime\n",
    "datetime_object = datetime.strptime('1700-3-01', '%Y-%m-%d')\n",
    "dataset['new_date'] = pd.to_datetime(dataset['Date'], format='%Y-%m-%d %H:%M', errors='coerce')\n",
    "dataset = dataset[dataset['new_date'] > datetime_object]"
   ]
  },
  {
   "cell_type": "code",
   "execution_count": 5,
   "metadata": {},
   "outputs": [
    {
     "data": {
      "text/html": [
       "<div>\n",
       "<style scoped>\n",
       "    .dataframe tbody tr th:only-of-type {\n",
       "        vertical-align: middle;\n",
       "    }\n",
       "\n",
       "    .dataframe tbody tr th {\n",
       "        vertical-align: top;\n",
       "    }\n",
       "\n",
       "    .dataframe thead th {\n",
       "        text-align: right;\n",
       "    }\n",
       "</style>\n",
       "<table border=\"1\" class=\"dataframe\">\n",
       "  <thead>\n",
       "    <tr style=\"text-align: right;\">\n",
       "      <th></th>\n",
       "      <th>FishID</th>\n",
       "      <th>Date</th>\n",
       "      <th>TREND</th>\n",
       "      <th>Gear</th>\n",
       "      <th>Species</th>\n",
       "      <th>Sex</th>\n",
       "      <th>Length</th>\n",
       "      <th>Mass</th>\n",
       "      <th>Ktl</th>\n",
       "      <th>Relative weight</th>\n",
       "      <th>...</th>\n",
       "      <th>misc 2 num</th>\n",
       "      <th>misc 3 text</th>\n",
       "      <th>misc 4 num</th>\n",
       "      <th>Site</th>\n",
       "      <th>KFL</th>\n",
       "      <th>Day</th>\n",
       "      <th>Month</th>\n",
       "      <th>Year</th>\n",
       "      <th>new_weight</th>\n",
       "      <th>new_date</th>\n",
       "    </tr>\n",
       "  </thead>\n",
       "  <tbody>\n",
       "    <tr>\n",
       "      <td>0</td>\n",
       "      <td>19710001</td>\n",
       "      <td>1971-03-09 00:00:00</td>\n",
       "      <td>1</td>\n",
       "      <td>GN</td>\n",
       "      <td>LMB</td>\n",
       "      <td>NaN</td>\n",
       "      <td>263</td>\n",
       "      <td>250.0</td>\n",
       "      <td>1.37</td>\n",
       "      <td>0.0</td>\n",
       "      <td>...</td>\n",
       "      <td>NaN</td>\n",
       "      <td>NaN</td>\n",
       "      <td>NaN</td>\n",
       "      <td>RN</td>\n",
       "      <td>0.0</td>\n",
       "      <td>9.0</td>\n",
       "      <td>3.0</td>\n",
       "      <td>1971.0</td>\n",
       "      <td>0.0</td>\n",
       "      <td>1971-03-09</td>\n",
       "    </tr>\n",
       "    <tr>\n",
       "      <td>1</td>\n",
       "      <td>19710002</td>\n",
       "      <td>1971-03-09 00:00:00</td>\n",
       "      <td>1</td>\n",
       "      <td>GN</td>\n",
       "      <td>LMB</td>\n",
       "      <td>NaN</td>\n",
       "      <td>348</td>\n",
       "      <td>700.0</td>\n",
       "      <td>1.66</td>\n",
       "      <td>0.0</td>\n",
       "      <td>...</td>\n",
       "      <td>NaN</td>\n",
       "      <td>NaN</td>\n",
       "      <td>NaN</td>\n",
       "      <td>RN</td>\n",
       "      <td>0.0</td>\n",
       "      <td>9.0</td>\n",
       "      <td>3.0</td>\n",
       "      <td>1971.0</td>\n",
       "      <td>0.0</td>\n",
       "      <td>1971-03-09</td>\n",
       "    </tr>\n",
       "    <tr>\n",
       "      <td>2</td>\n",
       "      <td>19710003</td>\n",
       "      <td>1971-03-09 00:00:00</td>\n",
       "      <td>1</td>\n",
       "      <td>GN</td>\n",
       "      <td>LMB</td>\n",
       "      <td>NaN</td>\n",
       "      <td>332</td>\n",
       "      <td>555.0</td>\n",
       "      <td>1.51</td>\n",
       "      <td>0.0</td>\n",
       "      <td>...</td>\n",
       "      <td>NaN</td>\n",
       "      <td>NaN</td>\n",
       "      <td>NaN</td>\n",
       "      <td>RN</td>\n",
       "      <td>NaN</td>\n",
       "      <td>9.0</td>\n",
       "      <td>3.0</td>\n",
       "      <td>1971.0</td>\n",
       "      <td>0.0</td>\n",
       "      <td>1971-03-09</td>\n",
       "    </tr>\n",
       "    <tr>\n",
       "      <td>3</td>\n",
       "      <td>19710004</td>\n",
       "      <td>1971-03-09 00:00:00</td>\n",
       "      <td>1</td>\n",
       "      <td>GN</td>\n",
       "      <td>LMB</td>\n",
       "      <td>NaN</td>\n",
       "      <td>350</td>\n",
       "      <td>720.0</td>\n",
       "      <td>1.67</td>\n",
       "      <td>0.0</td>\n",
       "      <td>...</td>\n",
       "      <td>NaN</td>\n",
       "      <td>NaN</td>\n",
       "      <td>NaN</td>\n",
       "      <td>RN</td>\n",
       "      <td>NaN</td>\n",
       "      <td>9.0</td>\n",
       "      <td>3.0</td>\n",
       "      <td>1971.0</td>\n",
       "      <td>0.0</td>\n",
       "      <td>1971-03-09</td>\n",
       "    </tr>\n",
       "    <tr>\n",
       "      <td>4</td>\n",
       "      <td>19710005</td>\n",
       "      <td>1971-03-09 00:00:00</td>\n",
       "      <td>1</td>\n",
       "      <td>GN</td>\n",
       "      <td>LMB</td>\n",
       "      <td>NaN</td>\n",
       "      <td>300</td>\n",
       "      <td>455.0</td>\n",
       "      <td>1.68</td>\n",
       "      <td>0.0</td>\n",
       "      <td>...</td>\n",
       "      <td>NaN</td>\n",
       "      <td>NaN</td>\n",
       "      <td>NaN</td>\n",
       "      <td>RN</td>\n",
       "      <td>NaN</td>\n",
       "      <td>9.0</td>\n",
       "      <td>3.0</td>\n",
       "      <td>1971.0</td>\n",
       "      <td>0.0</td>\n",
       "      <td>1971-03-09</td>\n",
       "    </tr>\n",
       "  </tbody>\n",
       "</table>\n",
       "<p>5 rows × 27 columns</p>\n",
       "</div>"
      ],
      "text/plain": [
       "     FishID                 Date  TREND Gear Species  Sex  Length   Mass  \\\n",
       "0  19710001  1971-03-09 00:00:00      1   GN     LMB  NaN     263  250.0   \n",
       "1  19710002  1971-03-09 00:00:00      1   GN     LMB  NaN     348  700.0   \n",
       "2  19710003  1971-03-09 00:00:00      1   GN     LMB  NaN     332  555.0   \n",
       "3  19710004  1971-03-09 00:00:00      1   GN     LMB  NaN     350  720.0   \n",
       "4  19710005  1971-03-09 00:00:00      1   GN     LMB  NaN     300  455.0   \n",
       "\n",
       "    Ktl  Relative weight  ... misc 2 num  misc 3 text  misc 4 num  Site  KFL  \\\n",
       "0  1.37              0.0  ...        NaN          NaN         NaN    RN  0.0   \n",
       "1  1.66              0.0  ...        NaN          NaN         NaN    RN  0.0   \n",
       "2  1.51              0.0  ...        NaN          NaN         NaN    RN  NaN   \n",
       "3  1.67              0.0  ...        NaN          NaN         NaN    RN  NaN   \n",
       "4  1.68              0.0  ...        NaN          NaN         NaN    RN  NaN   \n",
       "\n",
       "   Day Month    Year  new_weight   new_date  \n",
       "0  9.0   3.0  1971.0         0.0 1971-03-09  \n",
       "1  9.0   3.0  1971.0         0.0 1971-03-09  \n",
       "2  9.0   3.0  1971.0         0.0 1971-03-09  \n",
       "3  9.0   3.0  1971.0         0.0 1971-03-09  \n",
       "4  9.0   3.0  1971.0         0.0 1971-03-09  \n",
       "\n",
       "[5 rows x 27 columns]"
      ]
     },
     "execution_count": 5,
     "metadata": {},
     "output_type": "execute_result"
    }
   ],
   "source": [
    "dataset.head()"
   ]
  },
  {
   "cell_type": "code",
   "execution_count": 6,
   "metadata": {},
   "outputs": [],
   "source": [
    "#select for fish with data\n",
    "specieswithweights = dataset.loc[dataset['new_weight']!=0]\n",
    "STBspecies = specieswithweights.loc[(specieswithweights['Species'] == \"STB\") | (specieswithweights['Species'] == \"stb\")]\n",
    "\n",
    "SMBspecies = specieswithweights.loc[(specieswithweights['Species'] == \"SMB\") | (specieswithweights['Species'] == \"smb\")]\n",
    "\n"
   ]
  },
  {
   "cell_type": "code",
   "execution_count": 7,
   "metadata": {},
   "outputs": [
    {
     "data": {
      "text/plain": [
       "array(['STB', 'stb'], dtype=object)"
      ]
     },
     "execution_count": 7,
     "metadata": {},
     "output_type": "execute_result"
    }
   ],
   "source": [
    "STBspecies['Species'].unique()"
   ]
  },
  {
   "cell_type": "code",
   "execution_count": 8,
   "metadata": {},
   "outputs": [
    {
     "data": {
      "text/plain": [
       "array(['SMB', 'smb'], dtype=object)"
      ]
     },
     "execution_count": 8,
     "metadata": {},
     "output_type": "execute_result"
    }
   ],
   "source": [
    "SMBspecies['Species'].unique()"
   ]
  },
  {
   "cell_type": "markdown",
   "metadata": {},
   "source": [
    "# Plot STB weights over time"
   ]
  },
  {
   "cell_type": "code",
   "execution_count": 27,
   "metadata": {},
   "outputs": [
    {
     "data": {
      "image/png": "[encoded data removed]",
      "text/plain": [
       "<Figure size 432x288 with 1 Axes>"
      ]
     },
     "metadata": {
      "needs_background": "light"
     },
     "output_type": "display_data"
    }
   ],
   "source": [
    "STBspecies.plot(x='new_date', y='new_weight', style='o')  \n",
    "plt.title('MinTemp vs MaxTemp')  \n",
    "plt.xlabel('time')  \n",
    "plt.ylabel('weight')  \n",
    "plt.show()"
   ]
  },
  {
   "cell_type": "code",
   "execution_count": 10,
   "metadata": {},
   "outputs": [
    {
     "data": {
      "text/plain": [
       "<matplotlib.axes._subplots.AxesSubplot at 0x1a2486eb38>"
      ]
     },
     "execution_count": 10,
     "metadata": {},
     "output_type": "execute_result"
    },
    {
     "data": {
      "image/png": "[encoded data removed]",
      "text/plain": [
       "<Figure size 504x504 with 1 Axes>"
      ]
     },
     "metadata": {
      "needs_background": "light"
     },
     "output_type": "display_data"
    }
   ],
   "source": [
    "plt.figure(figsize=(7, 7))\n",
    "plt.tight_layout()\n",
    "seabornInstance.distplot(STBspecies['new_weight'])"
   ]
  },
  {
   "cell_type": "markdown",
   "metadata": {},
   "source": [
    "# Plot SMB weights over time"
   ]
  },
  {
   "cell_type": "code",
   "execution_count": 11,
   "metadata": {},
   "outputs": [
    {
     "data": {
      "image/png": "[encoded data removed]",
      "text/plain": [
       "<Figure size 432x288 with 1 Axes>"
      ]
     },
     "metadata": {
      "needs_background": "light"
     },
     "output_type": "display_data"
    }
   ],
   "source": [
    "SMBspecies.plot(x='new_date', y='new_weight', style='o')  \n",
    "plt.title('MinTemp vs MaxTemp')  \n",
    "plt.xlabel('time')  \n",
    "plt.ylabel('weight')  \n",
    "plt.show()"
   ]
  },
  {
   "cell_type": "code",
   "execution_count": 12,
   "metadata": {},
   "outputs": [
    {
     "data": {
      "text/plain": [
       "<matplotlib.axes._subplots.AxesSubplot at 0x1a247e0198>"
      ]
     },
     "execution_count": 12,
     "metadata": {},
     "output_type": "execute_result"
    },
    {
     "data": {
      "image/png": "[encoded data removed]",
      "text/plain": [
       "<Figure size 504x504 with 1 Axes>"
      ]
     },
     "metadata": {
      "needs_background": "light"
     },
     "output_type": "display_data"
    }
   ],
   "source": [
    "plt.figure(figsize=(7, 7))\n",
    "plt.tight_layout()\n",
    "seabornInstance.distplot(SMBspecies['new_weight'])"
   ]
  },
  {
   "cell_type": "markdown",
   "metadata": {},
   "source": [
    "# Divide into attributes and labels"
   ]
  },
  {
   "cell_type": "code",
   "execution_count": 13,
   "metadata": {},
   "outputs": [
    {
     "data": {
      "text/html": [
       "<div>\n",
       "<style scoped>\n",
       "    .dataframe tbody tr th:only-of-type {\n",
       "        vertical-align: middle;\n",
       "    }\n",
       "\n",
       "    .dataframe tbody tr th {\n",
       "        vertical-align: top;\n",
       "    }\n",
       "\n",
       "    .dataframe thead th {\n",
       "        text-align: right;\n",
       "    }\n",
       "</style>\n",
       "<table border=\"1\" class=\"dataframe\">\n",
       "  <thead>\n",
       "    <tr style=\"text-align: right;\">\n",
       "      <th></th>\n",
       "      <th>FishID</th>\n",
       "      <th>Date</th>\n",
       "      <th>TREND</th>\n",
       "      <th>Gear</th>\n",
       "      <th>Species</th>\n",
       "      <th>Sex</th>\n",
       "      <th>Length</th>\n",
       "      <th>Mass</th>\n",
       "      <th>Ktl</th>\n",
       "      <th>Relative weight</th>\n",
       "      <th>...</th>\n",
       "      <th>misc 2 num</th>\n",
       "      <th>misc 3 text</th>\n",
       "      <th>misc 4 num</th>\n",
       "      <th>Site</th>\n",
       "      <th>KFL</th>\n",
       "      <th>Day</th>\n",
       "      <th>Month</th>\n",
       "      <th>Year</th>\n",
       "      <th>new_weight</th>\n",
       "      <th>new_date</th>\n",
       "    </tr>\n",
       "  </thead>\n",
       "  <tbody>\n",
       "    <tr>\n",
       "      <td>4201</td>\n",
       "      <td>19770088</td>\n",
       "      <td>1977-03-24 00:00:00</td>\n",
       "      <td>1</td>\n",
       "      <td>GN</td>\n",
       "      <td>STB</td>\n",
       "      <td>NaN</td>\n",
       "      <td>463</td>\n",
       "      <td>1180.0</td>\n",
       "      <td>1.18</td>\n",
       "      <td>96.0</td>\n",
       "      <td>...</td>\n",
       "      <td>NaN</td>\n",
       "      <td>NaN</td>\n",
       "      <td>NaN</td>\n",
       "      <td>PB</td>\n",
       "      <td>1.0</td>\n",
       "      <td>24.0</td>\n",
       "      <td>3.0</td>\n",
       "      <td>1977.0</td>\n",
       "      <td>96.0</td>\n",
       "      <td>1977-03-24</td>\n",
       "    </tr>\n",
       "    <tr>\n",
       "      <td>4202</td>\n",
       "      <td>19770089</td>\n",
       "      <td>1977-03-23 00:00:00</td>\n",
       "      <td>1</td>\n",
       "      <td>GN</td>\n",
       "      <td>STB</td>\n",
       "      <td>NaN</td>\n",
       "      <td>320</td>\n",
       "      <td>500.0</td>\n",
       "      <td>1.52</td>\n",
       "      <td>123.0</td>\n",
       "      <td>...</td>\n",
       "      <td>NaN</td>\n",
       "      <td>NaN</td>\n",
       "      <td>NaN</td>\n",
       "      <td>RN</td>\n",
       "      <td>2.0</td>\n",
       "      <td>23.0</td>\n",
       "      <td>3.0</td>\n",
       "      <td>1977.0</td>\n",
       "      <td>123.0</td>\n",
       "      <td>1977-03-23</td>\n",
       "    </tr>\n",
       "    <tr>\n",
       "      <td>4203</td>\n",
       "      <td>19770090</td>\n",
       "      <td>1977-03-23 00:00:00</td>\n",
       "      <td>1</td>\n",
       "      <td>GN</td>\n",
       "      <td>STB</td>\n",
       "      <td>NaN</td>\n",
       "      <td>310</td>\n",
       "      <td>525.0</td>\n",
       "      <td>1.76</td>\n",
       "      <td>142.0</td>\n",
       "      <td>...</td>\n",
       "      <td>NaN</td>\n",
       "      <td>NaN</td>\n",
       "      <td>NaN</td>\n",
       "      <td>RN</td>\n",
       "      <td>2.0</td>\n",
       "      <td>23.0</td>\n",
       "      <td>3.0</td>\n",
       "      <td>1977.0</td>\n",
       "      <td>142.0</td>\n",
       "      <td>1977-03-23</td>\n",
       "    </tr>\n",
       "    <tr>\n",
       "      <td>4204</td>\n",
       "      <td>19770091</td>\n",
       "      <td>1977-03-23 00:00:00</td>\n",
       "      <td>1</td>\n",
       "      <td>GN</td>\n",
       "      <td>STB</td>\n",
       "      <td>NaN</td>\n",
       "      <td>375</td>\n",
       "      <td>900.0</td>\n",
       "      <td>1.70</td>\n",
       "      <td>137.0</td>\n",
       "      <td>...</td>\n",
       "      <td>NaN</td>\n",
       "      <td>NaN</td>\n",
       "      <td>NaN</td>\n",
       "      <td>RN</td>\n",
       "      <td>2.0</td>\n",
       "      <td>23.0</td>\n",
       "      <td>3.0</td>\n",
       "      <td>1977.0</td>\n",
       "      <td>137.0</td>\n",
       "      <td>1977-03-23</td>\n",
       "    </tr>\n",
       "    <tr>\n",
       "      <td>4205</td>\n",
       "      <td>19770092</td>\n",
       "      <td>1977-03-23 00:00:00</td>\n",
       "      <td>1</td>\n",
       "      <td>GN</td>\n",
       "      <td>STB</td>\n",
       "      <td>NaN</td>\n",
       "      <td>340</td>\n",
       "      <td>690.0</td>\n",
       "      <td>1.75</td>\n",
       "      <td>141.0</td>\n",
       "      <td>...</td>\n",
       "      <td>NaN</td>\n",
       "      <td>NaN</td>\n",
       "      <td>NaN</td>\n",
       "      <td>RN</td>\n",
       "      <td>2.0</td>\n",
       "      <td>23.0</td>\n",
       "      <td>3.0</td>\n",
       "      <td>1977.0</td>\n",
       "      <td>141.0</td>\n",
       "      <td>1977-03-23</td>\n",
       "    </tr>\n",
       "  </tbody>\n",
       "</table>\n",
       "<p>5 rows × 27 columns</p>\n",
       "</div>"
      ],
      "text/plain": [
       "        FishID                 Date  TREND Gear Species  Sex  Length    Mass  \\\n",
       "4201  19770088  1977-03-24 00:00:00      1   GN     STB  NaN     463  1180.0   \n",
       "4202  19770089  1977-03-23 00:00:00      1   GN     STB  NaN     320   500.0   \n",
       "4203  19770090  1977-03-23 00:00:00      1   GN     STB  NaN     310   525.0   \n",
       "4204  19770091  1977-03-23 00:00:00      1   GN     STB  NaN     375   900.0   \n",
       "4205  19770092  1977-03-23 00:00:00      1   GN     STB  NaN     340   690.0   \n",
       "\n",
       "       Ktl  Relative weight  ... misc 2 num  misc 3 text  misc 4 num  Site  \\\n",
       "4201  1.18             96.0  ...        NaN          NaN         NaN    PB   \n",
       "4202  1.52            123.0  ...        NaN          NaN         NaN    RN   \n",
       "4203  1.76            142.0  ...        NaN          NaN         NaN    RN   \n",
       "4204  1.70            137.0  ...        NaN          NaN         NaN    RN   \n",
       "4205  1.75            141.0  ...        NaN          NaN         NaN    RN   \n",
       "\n",
       "      KFL   Day Month    Year  new_weight   new_date  \n",
       "4201  1.0  24.0   3.0  1977.0        96.0 1977-03-24  \n",
       "4202  2.0  23.0   3.0  1977.0       123.0 1977-03-23  \n",
       "4203  2.0  23.0   3.0  1977.0       142.0 1977-03-23  \n",
       "4204  2.0  23.0   3.0  1977.0       137.0 1977-03-23  \n",
       "4205  2.0  23.0   3.0  1977.0       141.0 1977-03-23  \n",
       "\n",
       "[5 rows x 27 columns]"
      ]
     },
     "execution_count": 13,
     "metadata": {},
     "output_type": "execute_result"
    }
   ],
   "source": [
    "STBspecies.head()"
   ]
  },
  {
   "cell_type": "markdown",
   "metadata": {},
   "source": [
    "# Linear regression with weight and length"
   ]
  },
  {
   "cell_type": "code",
   "execution_count": 71,
   "metadata": {},
   "outputs": [],
   "source": [
    "import filter\n",
    "fil = filter.Filter(STBspecies)"
   ]
  },
  {
   "cell_type": "code",
   "execution_count": null,
   "metadata": {},
   "outputs": [],
   "source": [
    "fil.df.rangeLength(low, high)"
   ]
  },
  {
   "cell_type": "code",
   "execution_count": 73,
   "metadata": {},
   "outputs": [],
   "source": [
    "fil.rangeLength(0, 800)\n",
    "fil.df = fil.df[fil.df.new_weight >= 0]\n",
    "fil.df = fil.df[fil.df.new_weight <= 300]"
   ]
  },
  {
   "cell_type": "markdown",
   "metadata": {},
   "source": [
    "Next, we split 80% of the data to the training set while 20% of the data to test set using below code.\n",
    "The test_size variable is where we actually specify the proportion of the test set."
   ]
  },
  {
   "cell_type": "code",
   "execution_count": 74,
   "metadata": {},
   "outputs": [
    {
     "data": {
      "image/png": "[encoded data removed]",
      "text/plain": [
       "<Figure size 432x288 with 1 Axes>"
      ]
     },
     "metadata": {
      "needs_background": "light"
     },
     "output_type": "display_data"
    }
   ],
   "source": [
    "fil.df.plot(x='Length', y='new_weight', style='o')  \n",
    "plt.title('MinTemp vs MaxTemp')  \n",
    "plt.xlabel('length')  \n",
    "plt.ylabel('weigth')  \n",
    "plt.show()"
   ]
  },
  {
   "cell_type": "code",
   "execution_count": 75,
   "metadata": {},
   "outputs": [],
   "source": [
    "X = fil.df[\"Length\"].values.reshape(-1,1)\n",
    "y = fil.df['new_weight'].values.reshape(-1,1)"
   ]
  },
  {
   "cell_type": "code",
   "execution_count": 76,
   "metadata": {},
   "outputs": [],
   "source": [
    "X_train, X_test, y_train, y_test = train_test_split(X, y, test_size=0.2, random_state=0)"
   ]
  },
  {
   "cell_type": "markdown",
   "metadata": {},
   "source": [
    "After splitting the data into training and testing sets, finally, the time is to train our algorithm."
   ]
  },
  {
   "cell_type": "code",
   "execution_count": 77,
   "metadata": {},
   "outputs": [
    {
     "data": {
      "text/plain": [
       "LinearRegression(copy_X=True, fit_intercept=True, n_jobs=None, normalize=False)"
      ]
     },
     "execution_count": 77,
     "metadata": {},
     "output_type": "execute_result"
    }
   ],
   "source": [
    "regressor = LinearRegression()  \n",
    "regressor.fit(X_train, y_train) #training the algorithm"
   ]
  },
  {
   "cell_type": "markdown",
   "metadata": {},
   "source": [
    "As we have discussed that the linear regression model basically finds the best value for the intercept and slope, which results in a line that best fits the data. To see the value of the intercept and slope calculated by the linear regression algorithm for our dataset, execute the following code."
   ]
  },
  {
   "cell_type": "code",
   "execution_count": 59,
   "metadata": {},
   "outputs": [
    {
     "name": "stdout",
     "output_type": "stream",
     "text": [
      "[-3.93230675]\n",
      "[[0.09615612]]\n"
     ]
    }
   ],
   "source": [
    "#To retrieve the intercept:\n",
    "print(regressor.intercept_)\n",
    "#For retrieving the slope:\n",
    "print(regressor.coef_)"
   ]
  },
  {
   "cell_type": "markdown",
   "metadata": {},
   "source": [
    "Now that we have trained our algorithm, it’s time to make some predictions. To do so, we will use our test data and see how accurately our algorithm predicts the percentage score."
   ]
  },
  {
   "cell_type": "code",
   "execution_count": 78,
   "metadata": {},
   "outputs": [],
   "source": [
    "y_pred = regressor.predict(X_test)"
   ]
  },
  {
   "cell_type": "markdown",
   "metadata": {},
   "source": [
    "Now compare the actual output values for X_test with the predicted values, execute the following script:"
   ]
  },
  {
   "cell_type": "code",
   "execution_count": 79,
   "metadata": {},
   "outputs": [
    {
     "data": {
      "text/html": [
       "<div>\n",
       "<style scoped>\n",
       "    .dataframe tbody tr th:only-of-type {\n",
       "        vertical-align: middle;\n",
       "    }\n",
       "\n",
       "    .dataframe tbody tr th {\n",
       "        vertical-align: top;\n",
       "    }\n",
       "\n",
       "    .dataframe thead th {\n",
       "        text-align: right;\n",
       "    }\n",
       "</style>\n",
       "<table border=\"1\" class=\"dataframe\">\n",
       "  <thead>\n",
       "    <tr style=\"text-align: right;\">\n",
       "      <th></th>\n",
       "      <th>Actual</th>\n",
       "      <th>Predicted</th>\n",
       "    </tr>\n",
       "  </thead>\n",
       "  <tbody>\n",
       "    <tr>\n",
       "      <td>0</td>\n",
       "      <td>73.0</td>\n",
       "      <td>86.191893</td>\n",
       "    </tr>\n",
       "    <tr>\n",
       "      <td>1</td>\n",
       "      <td>91.0</td>\n",
       "      <td>88.521054</td>\n",
       "    </tr>\n",
       "    <tr>\n",
       "      <td>2</td>\n",
       "      <td>51.0</td>\n",
       "      <td>68.152312</td>\n",
       "    </tr>\n",
       "    <tr>\n",
       "      <td>3</td>\n",
       "      <td>87.0</td>\n",
       "      <td>87.516318</td>\n",
       "    </tr>\n",
       "    <tr>\n",
       "      <td>4</td>\n",
       "      <td>72.0</td>\n",
       "      <td>78.656372</td>\n",
       "    </tr>\n",
       "    <tr>\n",
       "      <td>...</td>\n",
       "      <td>...</td>\n",
       "      <td>...</td>\n",
       "    </tr>\n",
       "    <tr>\n",
       "      <td>2901</td>\n",
       "      <td>84.0</td>\n",
       "      <td>80.483165</td>\n",
       "    </tr>\n",
       "    <tr>\n",
       "      <td>2902</td>\n",
       "      <td>68.0</td>\n",
       "      <td>79.935127</td>\n",
       "    </tr>\n",
       "    <tr>\n",
       "      <td>2903</td>\n",
       "      <td>75.0</td>\n",
       "      <td>80.802854</td>\n",
       "    </tr>\n",
       "    <tr>\n",
       "      <td>2904</td>\n",
       "      <td>69.0</td>\n",
       "      <td>83.360364</td>\n",
       "    </tr>\n",
       "    <tr>\n",
       "      <td>2905</td>\n",
       "      <td>75.0</td>\n",
       "      <td>74.272069</td>\n",
       "    </tr>\n",
       "  </tbody>\n",
       "</table>\n",
       "<p>2906 rows × 2 columns</p>\n",
       "</div>"
      ],
      "text/plain": [
       "      Actual  Predicted\n",
       "0       73.0  86.191893\n",
       "1       91.0  88.521054\n",
       "2       51.0  68.152312\n",
       "3       87.0  87.516318\n",
       "4       72.0  78.656372\n",
       "...      ...        ...\n",
       "2901    84.0  80.483165\n",
       "2902    68.0  79.935127\n",
       "2903    75.0  80.802854\n",
       "2904    69.0  83.360364\n",
       "2905    75.0  74.272069\n",
       "\n",
       "[2906 rows x 2 columns]"
      ]
     },
     "execution_count": 79,
     "metadata": {},
     "output_type": "execute_result"
    }
   ],
   "source": [
    "df = pd.DataFrame({'Actual': y_test.flatten(), 'Predicted': y_pred.flatten()})\n",
    "df"
   ]
  },
  {
   "cell_type": "code",
   "execution_count": 80,
   "metadata": {},
   "outputs": [
    {
     "data": {
      "image/png": "[encoded data removed]",
      "text/plain": [
       "<Figure size 432x288 with 1 Axes>"
      ]
     },
     "metadata": {
      "needs_background": "light"
     },
     "output_type": "display_data"
    }
   ],
   "source": [
    "plt.scatter(X_test, y_test,  color='gray')\n",
    "plt.plot(X_test, y_pred, color='red', linewidth=2)\n",
    "plt.show()"
   ]
  }
 ],
 "metadata": {
  "kernelspec": {
   "display_name": "Python 3",
   "language": "python",
   "name": "python3"
  },
  "language_info": {
   "codemirror_mode": {
    "name": "ipython",
    "version": 3
   },
   "file_extension": ".py",
   "mimetype": "text/x-python",
   "name": "python",
   "nbconvert_exporter": "python",
   "pygments_lexer": "ipython3",
   "version": "3.7.3"
  }
 },
 "nbformat": 4,
 "nbformat_minor": 2
}
